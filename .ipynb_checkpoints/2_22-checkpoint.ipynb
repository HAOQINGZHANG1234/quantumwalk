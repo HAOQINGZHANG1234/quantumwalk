{
 "cells": [
  {
   "cell_type": "markdown",
   "metadata": {},
   "source": [
    "# define operate"
   ]
  },
  {
   "cell_type": "code",
   "execution_count": 1,
   "metadata": {},
   "outputs": [],
   "source": [
    "import numpy as np \n",
    "import matplotlib.pyplot as plt\n",
    " \n",
    "def carry(state, theta):\n",
    "\t'''\n",
    "\tcarry U operatior on state\n",
    "\tsuppose U=exp(-i*theta/2*sigmay)\n",
    "\t'''\n",
    "\tU = np.array([[np.cos(theta/2), -np.sin(theta/2)],[np.sin(theta/2), np.cos(theta/2)]])\n",
    "\tfinal_state = np.dot(U, state)\n",
    "\n",
    "\treturn final_state\n",
    "\n",
    "def blue_carry(state, theta):\n",
    "\t'''\n",
    "\tblue carry U on state\n",
    "\tsuppose U=exp(-i*theta/2*sigmay)\n",
    "\tand |0>-->|1>,phonon number plus 1\n",
    "\t|1>-->|0>, phonon number minus 1\n",
    "\t'''\n",
    "\t# U operator on up and down level of state\n",
    "\tstate_up = np.vstack((state[0], np.zeros(len(state[0]))))\n",
    "\tstate_down = np.vstack((np.zeros(len(state[0])), state[1]))\n",
    "\tU = np.array([[np.cos(theta/2), -np.sin(theta/2)], [np.sin(theta/2), np.cos(theta/2)]])\n",
    "\tcarry_state_up = np.dot(U, state_up)\n",
    "\tcarry_state_down = np.dot(U, state_down)\n",
    "\t# after U operation, down level minus 1\n",
    "\tup_state = carry_state_up[0]\n",
    "\tdown_state_minus = carry_state_up[1]\n",
    "\tdown_state_minus_0 = state_up[0][0]  # blue carry can not drive the phonon=0 && up level\n",
    "\tdown_state_minus = np.delete(down_state_minus, 0)\n",
    "\tdown_state_minus = np.insert(down_state_minus, len(down_state_minus)-1, 0)\n",
    "\t# after U operation, up level plus 1\n",
    "\tup_state_plus = carry_state_down[0]\n",
    "\tdown_state = carry_state_down[1]\n",
    "\tup_state_plus = np.insert(up_state_plus, 0, down_state_minus_0)\n",
    "\tup_state_plus = np.delete(up_state_plus, len(up_state_plus)-1)\n",
    "\t# probability add up and down level\n",
    "\tup = up_state + up_state_plus\n",
    "\tdown = down_state_minus + down_state\n",
    "\tfinal_state = np.vstack((up, down))\n",
    "\n",
    "\treturn final_state\n",
    "\n",
    "def red_carry(state, theta):\n",
    "\t'''\n",
    "\tred carry U on state\n",
    "\tsuppose U=exp(-i*theta/2*sigmay)\n",
    "\tand |0>-->|1>,phonon number minus 1\n",
    "\t|1>-->|0>, phonon number plus 1\n",
    "\t'''\n",
    "\t# U operator on up and down level of state\n",
    "\tstate_up = np.vstack((state[0], np.zeros(len(state[0]))))\n",
    "\tstate_down = np.vstack((np.zeros(len(state[0])), state[1]))\n",
    "\tU = np.array([[np.cos(theta/2), -np.sin(theta/2)],[np.sin(theta/2), np.cos(theta/2)]])\n",
    "\tcarry_state_up = np.dot(U, state_up)\n",
    "\tcarry_state_down = np.dot(U, state_down)\n",
    "\t# after U operation, up level minus 1\n",
    "\tup_state_minus = carry_state_down[0]\n",
    "\tdown_state = carry_state_down[1]\n",
    "\tup_state_minus_0 = state_down[1][0] # red carry can not drive the phonon=0 && down level\n",
    "\tup_state_minus = np.delete(up_state_minus,0)\n",
    "\tup_state_minus = np.insert(up_state_minus,len(up_state_minus)-1,0)\n",
    "\t# after U operation, down level plus 1\n",
    "\tup_state = carry_state_up[0]\n",
    "\tdown_state_plus = carry_state_up[1]\n",
    "\tdown_state_plus = np.insert(down_state_plus,0,up_state_minus_0)\n",
    "\tdown_state_plus = np.delete(down_state_plus,len(down_state_plus)-1)\n",
    "\t# probability add up and down level\n",
    "\tup = up_state + up_state_minus\n",
    "\tdown = down_state_plus + down_state\n",
    "\tfinal_state = np.vstack((up, down))\n",
    "\n",
    "\treturn final_state\n",
    "\n",
    "def Operator(up_state, down_state, func, theta):\n",
    "\t'''\n",
    "\toperator include carry, blue and red\n",
    "\t'''\n",
    "\tstate = np.vstack((up_state, down_state))\n",
    "\tstate = func(state, theta)\n",
    "\n",
    "\treturn state[0], state[1]\n",
    "\n",
    "def one_step(state, theta, phi):\n",
    "\t'''\n",
    "\tconventional quantum walk with boundary\n",
    "\t'''\n",
    "\tup_state = state[0]\n",
    "\tdown_state = state[1]\n",
    "\taux_state = state[2]\n",
    "\tup_state, down_state = Operator(up_state, down_state, carry, theta)\n",
    "\taux_state, down_state = Operator(aux_state, down_state, red_carry, np.pi)\n",
    "\tup_state, down_state = Operator(up_state, down_state, carry, np.pi)\n",
    "\tup_state, down_state = Operator(up_state, down_state, blue_carry, np.pi)\n",
    "\taux_state, down_state = Operator(aux_state, down_state, carry, np.pi)\n",
    "\tup_state = np.exp(-1j*phi)*up_state\n",
    "\tstate = np.vstack([up_state, down_state, aux_state])\n",
    "\treturn state\n",
    "\n",
    "def N_step(state, theta, phi, N):\n",
    "\t'''\n",
    "\tN step of complete quantum walk\n",
    "\t'''\n",
    "\tfor i in range(N):\n",
    "\t\tstate = one_step(state, theta, phi)\n",
    "\treturn state\n",
    "\n"
   ]
  },
  {
   "cell_type": "markdown",
   "metadata": {},
   "source": [
    "# conventional quantum walk with boundary"
   ]
  },
  {
   "cell_type": "code",
   "execution_count": 11,
   "metadata": {},
   "outputs": [
    {
     "data": {
      "text/plain": [
       "<Figure size 432x288 with 0 Axes>"
      ]
     },
     "metadata": {},
     "output_type": "display_data"
    },
    {
     "data": {
      "application/vnd.jupyter.widget-view+json": {
       "model_id": "3b77405ad2b54e44a1f77c6b131f48ad",
       "version_major": 2,
       "version_minor": 0
      },
      "text/plain": [
       "interactive(children=(FloatSlider(value=0.0, description='n', max=99.0, step=1.0), FloatSlider(value=1.5707963…"
      ]
     },
     "metadata": {},
     "output_type": "display_data"
    }
   ],
   "source": [
    "from ipywidgets import interact, interactive, fixed, interact_manual \n",
    "import ipywidgets as widgets \n",
    "\n",
    "import matplotlib.pyplot as plt \n",
    "%matplotlib inline \n",
    "import matplotlib.pyplot as plt \n",
    "%matplotlib inline \n",
    "\n",
    "import numpy as np \n",
    "theta_2=np.pi/2\n",
    "a = np.sqrt(4-2*np.sqrt(2))\n",
    "M = 200\n",
    "N = 100\n",
    "up_state = [0]*M\n",
    "down_state = [0]*M\n",
    "aux_state = [0]*M\n",
    "up_state[0] = 1/a\n",
    "down_state[0] = (np.sqrt(2)-1)/a\n",
    "# down_state[0] = 1\n",
    "np.array(up_state)\n",
    "np.array(down_state)\n",
    "np.array(aux_state)\n",
    "init_state = np.vstack((up_state, down_state, aux_state))\n",
    "\n",
    "plt.figure()\n",
    "\n",
    "def plot_func(n,theta,phi):\n",
    "    n = int(n)\n",
    "    state = N_step(init_state, theta , phi, N=n)\n",
    "    P = abs(state[0])**2 + abs(state[1])**2 + abs(state[2])**2\n",
    "    phonon = np.arange(0, len(P)) \n",
    "    plt.bar(phonon ,P) \n",
    "    plt.xlim(0,50)\n",
    "    plt.ylim(0,1)\n",
    "\n",
    "interact(plot_func, n = widgets.FloatSlider(value=0, \n",
    "               min=0, \n",
    "               max=99, \n",
    "               step=1),theta = widgets.FloatSlider(value=np.pi/2, \n",
    "               min=-4*np.pi, \n",
    "               max=4*np.pi, \n",
    "               step=0.05*np.pi),phi = widgets.FloatSlider(value=0, \n",
    "               min=-2*np.pi, \n",
    "               max=2*np.pi, \n",
    "               step=0.05*np.pi)) \n",
    "\n",
    "plt.show()\n"
   ]
  },
  {
   "cell_type": "code",
   "execution_count": 3,
   "metadata": {},
   "outputs": [
    {
     "data": {
      "text/plain": [
       "5.8284271247461863"
      ]
     },
     "execution_count": 3,
     "metadata": {},
     "output_type": "execute_result"
    }
   ],
   "source": [
    "state = N_step(init_state, np.pi/2 ,0,N=5)\n",
    "P = abs(state[0])**2 + abs(state[1])**2 + abs(state[2])**2\n",
    "P[0]/P[1]"
   ]
  },
  {
   "cell_type": "code",
   "execution_count": 4,
   "metadata": {},
   "outputs": [
    {
     "data": {
      "text/plain": [
       "5.8284271247461872"
      ]
     },
     "execution_count": 4,
     "metadata": {},
     "output_type": "execute_result"
    }
   ],
   "source": [
    "1/(np.sqrt(2)-1)**2"
   ]
  },
  {
   "cell_type": "code",
   "execution_count": 58,
   "metadata": {},
   "outputs": [],
   "source": [
    "M = 100\n",
    "n = 1\n",
    "N = 50\n",
    "up_state = [0]*M\n",
    "down_state = [0]*M\n",
    "aux_state = [0]*M\n",
    "down_state[0] = 1\n",
    "np.array(up_state)\n",
    "np.array(down_state)\n",
    "np.array(aux_state)\n",
    "init_state = np.vstack((up_state, down_state, aux_state))\n",
    "state = one_step(init_state, np.pi/2, np.pi/3)\n"
   ]
  },
  {
   "cell_type": "markdown",
   "metadata": {},
   "source": [
    "# split-step quantum walk with absorbing boundary"
   ]
  },
  {
   "cell_type": "code",
   "execution_count": 3,
   "metadata": {},
   "outputs": [],
   "source": [
    "def OPERATE(state, theta_1, theta_2):\n",
    "    U = np.array([[np.cos(theta_1/2), -np.sin(theta_1/2)],[np.sin(theta_1/2), np.cos(theta_1/2)]])\n",
    "    state = np.dot(U, state)\n",
    "    l = len(state[0])\n",
    "    state_0 = state[0]\n",
    "    state_1 = state[1]\n",
    "    state_0 = np.insert(state_0,1,0)\n",
    "    state_0 = np.delete(state_0,l)\n",
    "    state = np.vstack((state_0, state_1))\n",
    "    U = np.array([[np.cos(theta_2/2), -np.sin(theta_2/2)],[np.sin(theta_2/2), np.cos(theta_2/2)]])\n",
    "    state = np.dot(U, state)\n",
    "    state_0 = state[0]\n",
    "    state_1 = state[1]\n",
    "    a = state_1[0]\n",
    "    state_1 = np.delete(state_1,0)\n",
    "    state_1 = np.insert(state_1,-1,0)\n",
    "    state_1[0] = np.sqrt(abs(a)**2+abs(state_1[0])**2)\n",
    "    state = np.vstack((state_0, state_1))\n",
    "    return state\n",
    "def N_STEP(state, theta_1, theta_2, N):\n",
    "\t'''\n",
    "\tN step of complete quantum walk\n",
    "\t'''\n",
    "\tfor i in range(N):\n",
    "\t\tstate = OPERATE(state, theta_1, theta_2)\n",
    "\treturn state\n"
   ]
  },
  {
   "cell_type": "code",
   "execution_count": 64,
   "metadata": {},
   "outputs": [
    {
     "data": {
      "text/plain": [
       "array([9.80057389e-001, 8.05980493e-006, 1.11540727e-005, 6.95248474e-005,\n",
       "       9.76705733e-005, 1.45160787e-004, 2.23796337e-004, 4.35728124e-004,\n",
       "       1.25650025e-004, 1.81942045e-003, 1.89732258e-004, 6.82276550e-004,\n",
       "       6.85469639e-006, 7.37610117e-003, 2.93932084e-004, 6.21498680e-003,\n",
       "       7.49427833e-004, 1.11562579e-003, 2.86782988e-004, 5.50833261e-005,\n",
       "       3.36736272e-005, 4.06533548e-007, 1.52243460e-006, 1.08728262e-008,\n",
       "       2.75536650e-008, 1.73826995e-009, 1.61332227e-010, 4.27851783e-011,\n",
       "       2.27460042e-014, 3.57306335e-013, 7.20853991e-015, 9.05583620e-016,\n",
       "       1.11360079e-016, 3.22573782e-020, 4.02182637e-019, 8.31911184e-021,\n",
       "       2.84596141e-022, 4.69984446e-023, 1.27510290e-025, 4.76102832e-026,\n",
       "       2.26320312e-027, 4.31683187e-032, 2.55045453e-030, 5.88098588e-032,\n",
       "       7.47728961e-035, 6.35618284e-035, 1.02836085e-036, 1.33384683e-039,\n",
       "       8.34766238e-040, 1.34992110e-041, 5.73086648e-046, 5.58989126e-045,\n",
       "       1.22719881e-046, 1.67464839e-049, 1.41294894e-050, 6.06199301e-052,\n",
       "       4.11090794e-054, 1.08592744e-057, 1.01788747e-057, 1.99997180e-059,\n",
       "       9.26016947e-062, 1.60127406e-065, 1.50102068e-065, 3.03795488e-067,\n",
       "       2.18839745e-069, 4.39244255e-072, 7.43225376e-075, 9.23117135e-076,\n",
       "       1.56649860e-077, 1.43234543e-079, 8.96334927e-082, 4.20537920e-084,\n",
       "       1.54883815e-086, 4.59957703e-089, 1.12033463e-091, 2.26385096e-094,\n",
       "       3.82478136e-097, 5.43171957e-100, 6.50674303e-103, 6.58861325e-106,\n",
       "       5.64456243e-109, 4.09104832e-112, 2.50592424e-115, 1.29481426e-118,\n",
       "       5.62790986e-122, 2.05013559e-125, 6.22989691e-129, 1.57011988e-132,\n",
       "       3.25900521e-136, 5.52389725e-140, 7.56752966e-144, 8.27566362e-148,\n",
       "       7.11516165e-152, 4.71990010e-156, 2.35930770e-160, 8.62100220e-165,\n",
       "       2.21213163e-169, 3.77153461e-174, 3.94132246e-179, 4.26439494e-184])"
      ]
     },
     "execution_count": 64,
     "metadata": {},
     "output_type": "execute_result"
    }
   ],
   "source": [
    "M = 100\n",
    "n = 1\n",
    "N = 50\n",
    "up_state = [0]*M\n",
    "down_state = [0]*M\n",
    "down_state[0] = 1/np.sqrt(2)\n",
    "up_state[1] = -1j/np.sqrt(2)\n",
    "theta_1 = np.pi\n",
    "theta_2 = np.pi/2\n",
    "np.array(up_state)\n",
    "np.array(down_state)\n",
    "init_state = np.vstack((up_state, down_state))\n",
    "state = N_STEP(init_state, np.pi+0.3, np.pi/2, N=100)\n",
    "p = abs(state[0])**2 + abs(state[1])**2 \n",
    "p\n"
   ]
  },
  {
   "cell_type": "code",
   "execution_count": 65,
   "metadata": {},
   "outputs": [
    {
     "data": {
      "text/plain": [
       "array([5.53495586e-001, 3.49322733e-004, 2.40948087e-004, 2.56746986e-003,\n",
       "       2.77898372e-003, 2.54325291e-003, 1.22908490e-002, 1.59799977e-003,\n",
       "       1.07868506e-002, 3.68485171e-002, 8.74694521e-003, 7.15737868e-003,\n",
       "       4.93946168e-002, 1.15421348e-001, 8.66753383e-002, 6.52260450e-002,\n",
       "       2.90241484e-002, 1.01583179e-002, 3.77101806e-003, 6.62647292e-004,\n",
       "       2.30125912e-004, 2.45146587e-005, 6.98021835e-006, 6.74188497e-007,\n",
       "       1.07084434e-007, 1.35154149e-008, 9.01919050e-010, 1.59919679e-010,\n",
       "       6.52923863e-012, 9.62495230e-013, 5.68282480e-014, 2.81770461e-015,\n",
       "       3.24961001e-016, 7.51548375e-018, 8.30377668e-019, 3.66158617e-020,\n",
       "       8.92524258e-022, 9.56465760e-023, 1.78465062e-024, 8.25326458e-026,\n",
       "       4.85014090e-027, 5.12133904e-029, 3.78258579e-030, 1.29921206e-031,\n",
       "       1.02546890e-033, 8.62531420e-035, 2.13536226e-036, 1.30691555e-038,\n",
       "       1.03324549e-039, 2.35217650e-041, 1.07991792e-043, 6.27284291e-045,\n",
       "       1.70384020e-046, 8.86833235e-049, 1.54806627e-050, 6.80691112e-052,\n",
       "       6.62296146e-054, 1.64709191e-056, 9.63681198e-058, 2.16113573e-059,\n",
       "       1.39096354e-061, 2.42650080e-064, 1.30197103e-065, 2.88333792e-067,\n",
       "       2.37578387e-069, 7.16863149e-072, 1.22972980e-074, 7.34649159e-076,\n",
       "       1.31903006e-077, 1.25377755e-079, 8.05386566e-082, 3.85089288e-084,\n",
       "       1.43891072e-086, 4.32223459e-089, 1.06259858e-091, 2.16374924e-094,\n",
       "       3.67933304e-097, 5.25388185e-100, 6.32331707e-103, 6.42883015e-106,\n",
       "       5.52700031e-109, 4.01805650e-112, 2.46775196e-115, 1.27804622e-118,\n",
       "       5.56627139e-122, 2.03126521e-125, 6.18206796e-129, 1.56015603e-132,\n",
       "       3.24209490e-136, 5.50076628e-140, 7.54236194e-144, 8.25423241e-148,\n",
       "       7.10116734e-152, 4.71307354e-156, 2.35690469e-160, 8.61518471e-165,\n",
       "       2.21123016e-169, 3.77074342e-174, 3.94132246e-179, 9.54782743e-183])"
      ]
     },
     "execution_count": 65,
     "metadata": {},
     "output_type": "execute_result"
    }
   ],
   "source": [
    "state = N_STEP(init_state, np.pi/2, np.pi+0.3, N=100)\n",
    "p = abs(state[0])**2 + abs(state[1])**2 \n",
    "p"
   ]
  },
  {
   "cell_type": "code",
   "execution_count": 34,
   "metadata": {
    "scrolled": true
   },
   "outputs": [
    {
     "data": {
      "text/plain": [
       "<matplotlib.legend.Legend at 0x1189206d8>"
      ]
     },
     "execution_count": 34,
     "metadata": {},
     "output_type": "execute_result"
    },
    {
     "data": {
      "image/png": "[encoded data removed]",
      "text/plain": [
       "<Figure size 432x288 with 1 Axes>"
      ]
     },
     "metadata": {},
     "output_type": "display_data"
    }
   ],
   "source": [
    "import numpy as np \n",
    "import matplotlib.pyplot as plt\n",
    " \n",
    "M = 500\n",
    "n = 1\n",
    "\n",
    "up_state = [0]*M\n",
    "down_state = [0]*M\n",
    "#down_state[10] = 1/np.sqrt(2)\n",
    "#up_state[1] = -1j/np.sqrt(2)\n",
    "down_state[5] = 1\n",
    "np.array(up_state)\n",
    "np.array(down_state)\n",
    "init_state = np.vstack((up_state, down_state))\n",
    "theta_2 = np.linspace(-np.pi/2,7*np.pi/2,501)\n",
    "theta_1 = np.pi/2\n",
    "p = np.zeros(501)\n",
    "pp = np.zeros(501)\n",
    "for i,theta in enumerate(theta_2):\n",
    "    state = N_STEP(init_state, theta_1, theta, N=200)\n",
    "    P = abs(state[0])**2 + abs(state[1])**2 \n",
    "    p[i] = P[0]  \n",
    "    \n",
    "plt.plot(theta_2, p, label = 'T2R2T1R1')\n",
    "\n",
    "\n",
    "plt.ylim(top = 1,bottom = 0)\n",
    "my_x_ticks = np.arange(-np.pi/2,7/2*np.pi,np.pi/2) \n",
    "plt.xticks(my_x_ticks,('-pi/2','0','pi/2','pi','3pi/2','2pi','5pi/2','3pi'))\n",
    "plt.vlines(np.pi/2, 0, 1, linestyles = \"dashed\")\n",
    "plt.vlines(np.pi, 0, 1, linestyles = \"dashed\")\n",
    "plt.vlines(3*np.pi/2, 0, 1, linestyles = \"dashed\")\n",
    "plt.vlines(5*np.pi/2, 0, 1, linestyles = \"dashed\")\n",
    "plt.vlines(3*np.pi, 0, 1, linestyles = \"dashed\")\n",
    "plt.vlines(7*np.pi/2, 0, 1, linestyles = \"dashed\")\n",
    "\n",
    "plt.legend(loc='best') \n",
    "\n"
   ]
  },
  {
   "cell_type": "code",
   "execution_count": 19,
   "metadata": {},
   "outputs": [
    {
     "data": {
      "text/plain": [
       "<matplotlib.legend.Legend at 0x10e345978>"
      ]
     },
     "execution_count": 19,
     "metadata": {},
     "output_type": "execute_result"
    },
    {
     "data": {
      "image/png": "[encoded data removed]",
      "text/plain": [
       "<Figure size 432x288 with 1 Axes>"
      ]
     },
     "metadata": {},
     "output_type": "display_data"
    }
   ],
   "source": [
    "import numpy as np \n",
    "import matplotlib.pyplot as plt\n",
    " \n",
    "M = 500\n",
    "n = 1\n",
    "\n",
    "up_state = [0]*M\n",
    "down_state = [0]*M\n",
    "down_state[3] = 1/np.sqrt(2)\n",
    "up_state[1] = -1j/np.sqrt(2)\n",
    "np.array(up_state)\n",
    "np.array(down_state)\n",
    "init_state = np.vstack((up_state, down_state))\n",
    "theta_2 = np.linspace(-np.pi/2,7*np.pi/2,501)\n",
    "\n",
    "p1 = np.zeros(501)\n",
    "\n",
    "for i,theta in enumerate(theta_2):\n",
    "    state = N_STEP(init_state, theta, np.pi/2, N=200)\n",
    "    P = abs(state[0])**2 + abs(state[1])**2 \n",
    "    p1[i] = P[0]  \n",
    "    \n",
    "plt.plot(theta_2, p1, label = 'T2R2T1R1')\n",
    "\n",
    "\n",
    "plt.ylim(top = 1,bottom = 0)\n",
    "my_x_ticks = np.arange(-np.pi/2,7/2*np.pi,np.pi/2) \n",
    "plt.xticks(my_x_ticks,('-pi/2','0','pi/2','pi','3pi/2','2pi','5pi/2','3pi'))\n",
    "plt.vlines(np.pi/2, 0, 1, linestyles = \"dashed\")\n",
    "plt.vlines(np.pi, 0, 1, linestyles = \"dashed\")\n",
    "plt.vlines(3*np.pi/2, 0, 1, linestyles = \"dashed\")\n",
    "plt.vlines(5*np.pi/2, 0, 1, linestyles = \"dashed\")\n",
    "plt.vlines(3*np.pi, 0, 1, linestyles = \"dashed\")\n",
    "plt.vlines(7*np.pi/2, 0, 1, linestyles = \"dashed\")\n",
    "\n",
    "plt.legend(loc='best') \n",
    "\n"
   ]
  },
  {
   "cell_type": "code",
   "execution_count": 18,
   "metadata": {},
   "outputs": [
    {
     "data": {
      "text/plain": [
       "<matplotlib.legend.Legend at 0x10e27c8d0>"
      ]
     },
     "execution_count": 18,
     "metadata": {},
     "output_type": "execute_result"
    },
    {
     "data": {
      "image/png": "[encoded data removed]",
      "text/plain": [
       "<Figure size 432x288 with 1 Axes>"
      ]
     },
     "metadata": {},
     "output_type": "display_data"
    }
   ],
   "source": [
    "import numpy as np \n",
    "import matplotlib.pyplot as plt\n",
    " \n",
    "M = 500\n",
    "n = 1\n",
    "\n",
    "up_state = [0]*M\n",
    "down_state = [0]*M\n",
    "down_state[3] = 1/np.sqrt(2)\n",
    "up_state[1] = -1j/np.sqrt(2)\n",
    "np.array(up_state)\n",
    "np.array(down_state)\n",
    "init_state = np.vstack((up_state, down_state))\n",
    "theta_2 = np.linspace(-np.pi/2,7*np.pi/2,501)\n",
    "\n",
    "\n",
    "p2 = np.zeros(501)\n",
    "for i,theta in enumerate(theta_2):\n",
    "    state = N_STEP(init_state, np.pi/2, theta, N=100)\n",
    "    P = abs(state[0])**2 + abs(state[1])**2 \n",
    "    p2[i] = P[0]  \n",
    "    \n",
    "plt.plot(theta_2, p2, label = 'T2R2T1R1')\n",
    "\n",
    "\n",
    "plt.ylim(top = 1,bottom = 0)\n",
    "my_x_ticks = np.arange(-np.pi/2,7/2*np.pi,np.pi/2) \n",
    "plt.xticks(my_x_ticks,('-pi/2','0','pi/2','pi','3pi/2','2pi','5pi/2','3pi'))\n",
    "plt.vlines(np.pi/2, 0, 1, linestyles = \"dashed\")\n",
    "plt.vlines(np.pi, 0, 1, linestyles = \"dashed\")\n",
    "plt.vlines(3*np.pi/2, 0, 1, linestyles = \"dashed\")\n",
    "plt.vlines(5*np.pi/2, 0, 1, linestyles = \"dashed\")\n",
    "plt.vlines(3*np.pi, 0, 1, linestyles = \"dashed\")\n",
    "plt.vlines(7*np.pi/2, 0, 1, linestyles = \"dashed\")\n",
    "\n",
    "plt.legend(loc='best') \n",
    "\n"
   ]
  },
  {
   "cell_type": "code",
   "execution_count": 39,
   "metadata": {},
   "outputs": [
    {
     "data": {
      "text/plain": [
       "<Figure size 432x288 with 0 Axes>"
      ]
     },
     "metadata": {},
     "output_type": "display_data"
    },
    {
     "data": {
      "application/vnd.jupyter.widget-view+json": {
       "model_id": "765564c34ea34463af4bdfb2bc92d4e1",
       "version_major": 2,
       "version_minor": 0
      },
      "text/plain": [
       "interactive(children=(FloatSlider(value=0.0, description='n', max=89.0, step=1.0), FloatSlider(value=1.5707963…"
      ]
     },
     "metadata": {},
     "output_type": "display_data"
    }
   ],
   "source": [
    "from ipywidgets import interact, interactive, fixed, interact_manual \n",
    "import ipywidgets as widgets \n",
    "\n",
    "import matplotlib.pyplot as plt \n",
    "%matplotlib inline \n",
    "\n",
    "import numpy as np \n",
    "theta_2=np.pi/4\n",
    "\n",
    "M = 500\n",
    "\n",
    "up_state = [0]*M\n",
    "down_state = [0]*M\n",
    "\n",
    "\n",
    "down_state[1] = 1\n",
    "np.array(up_state)\n",
    "np.array(down_state)\n",
    "\n",
    "init_state = np.vstack((up_state, down_state))\n",
    "\n",
    "plt.figure()\n",
    "\n",
    "def plot_func(n,theta_1,theta_2):\n",
    "    n = int(n)\n",
    "    state = N_STEP(init_state, theta_1, theta_2, N=n)\n",
    "    P = abs(state[0])**2 + abs(state[1])**2 \n",
    "    phonon = np.arange(0, len(P)) \n",
    "    plt.bar(phonon ,P) \n",
    "    plt.xlim(0,50)\n",
    "    plt.ylim(0,1)\n",
    "\n",
    "interact(plot_func, n = widgets.FloatSlider(value=0, \n",
    "               min=0, \n",
    "               max=89, \n",
    "               step=1),theta_1 = widgets.FloatSlider(value=np.pi/2, \n",
    "               min=-2*np.pi, \n",
    "               max=2*np.pi, \n",
    "               step=0.05*np.pi),theta_2 =widgets.FloatSlider(value=5*np.pi/6, \n",
    "               min=-2*np.pi, \n",
    "               max=2*np.pi, \n",
    "               step=0.01)) \n",
    "plt.show()"
   ]
  },
  {
   "cell_type": "code",
   "execution_count": 83,
   "metadata": {},
   "outputs": [
    {
     "data": {
      "text/plain": [
       "<matplotlib.legend.Legend at 0x111860470>"
      ]
     },
     "execution_count": 83,
     "metadata": {},
     "output_type": "execute_result"
    },
    {
     "data": {
      "image/png": "[encoded data removed]",
      "text/plain": [
       "<Figure size 432x288 with 1 Axes>"
      ]
     },
     "metadata": {},
     "output_type": "display_data"
    }
   ],
   "source": [
    "M = 100\n",
    "n = 1\n",
    "\n",
    "up_state = [0]*M\n",
    "down_state = [0]*M\n",
    "down_state[1] = 1\n",
    "np.array(up_state)\n",
    "np.array(down_state)\n",
    "init_state = np.vstack((up_state, down_state))\n",
    "theta_1 = np.linspace(-np.pi/2,7*np.pi/2,501)\n",
    "theta_2 = np.pi/2\n",
    "p1 = np.zeros(501)\n",
    "p2 = np.zeros(501)\n",
    "\n",
    "for i,theta in enumerate(theta_1):\n",
    "    state = N_STEP(init_state, theta, theta_2, N=200)\n",
    "    P = abs(state[0])**2 + abs(state[1])**2 \n",
    "    p1[i] = P[0] \n",
    "    \n",
    "plt.plot(theta_1, p1, label = 'T2R2T1R1')\n",
    "\n",
    "plt.ylim(top = 1,bottom = 0)\n",
    "my_x_ticks = np.arange(-np.pi/2,7/2*np.pi,np.pi/2) \n",
    "plt.xticks(my_x_ticks,('-pi/2','0','pi/2','pi','3pi/2','2pi','5pi/2','3pi'))\n",
    "plt.vlines(np.pi/2, 0, 1, linestyles = \"dashed\")\n",
    "plt.vlines(np.pi, 0, 1, linestyles = \"dashed\")\n",
    "plt.vlines(3*np.pi/2, 0, 1, linestyles = \"dashed\")\n",
    "plt.vlines(5*np.pi/2, 0, 1, linestyles = \"dashed\")\n",
    "plt.vlines(3*np.pi, 0, 1, linestyles = \"dashed\")\n",
    "plt.vlines(7*np.pi/2, 0, 1, linestyles = \"dashed\")\n",
    "\n",
    "plt.legend(loc='best') "
   ]
  },
  {
   "cell_type": "code",
   "execution_count": 27,
   "metadata": {},
   "outputs": [
    {
     "data": {
      "text/plain": [
       "<Figure size 432x288 with 0 Axes>"
      ]
     },
     "metadata": {},
     "output_type": "display_data"
    },
    {
     "data": {
      "application/vnd.jupyter.widget-view+json": {
       "model_id": "cf8a015fca7d4c55b2820f9b97a12448",
       "version_major": 2,
       "version_minor": 0
      },
      "text/plain": [
       "interactive(children=(FloatSlider(value=0.0, description='n', max=89.0, step=1.0), FloatSlider(value=3.1415926…"
      ]
     },
     "metadata": {},
     "output_type": "display_data"
    }
   ],
   "source": [
    "from ipywidgets import interact, interactive, fixed, interact_manual \n",
    "import ipywidgets as widgets \n",
    "\n",
    "import matplotlib.pyplot as plt \n",
    "%matplotlib inline \n",
    "\n",
    "import numpy as np \n",
    "M = 100\n",
    "n = 1\n",
    "\n",
    "up_state = [0]*M\n",
    "down_state = [0]*M\n",
    "down_state[0] = 1/np.sqrt(2)\n",
    "up_state[1] = 1/np.sqrt(2)\n",
    "theta_1 = np.pi/2\n",
    "theta_2 = np.pi/2\n",
    "np.array(up_state)\n",
    "np.array(down_state)\n",
    "init_state = np.vstack((up_state, down_state))\n",
    "plt.figure()\n",
    "\n",
    "def plot_func(n,theta_1,theta_2):\n",
    "    n = int(n)\n",
    "    state = N_STEP(init_state, theta_1, theta_2, N=n)\n",
    "    P = abs(state[0])**2 + abs(state[1])**2 \n",
    "    phonon = np.arange(0, len(P)) \n",
    "    plt.bar(phonon ,P) \n",
    "    plt.xlim(0,50)\n",
    "    plt.ylim(0,1)\n",
    "\n",
    "interact(plot_func, n = widgets.FloatSlider(value=0, \n",
    "               min=0, \n",
    "               max=89, \n",
    "               step=1),theta_1 = widgets.FloatSlider(value=np.pi, \n",
    "               min=-2*np.pi, \n",
    "               max=2*np.pi, \n",
    "               step=0.05*np.pi),theta_2 =widgets.FloatSlider(value=np.pi/2, \n",
    "               min=-2*np.pi, \n",
    "               max=2*np.pi, \n",
    "               step=0.01)) \n",
    "plt.show()\n"
   ]
  },
  {
   "cell_type": "code",
   "execution_count": null,
   "metadata": {},
   "outputs": [],
   "source": []
  }
 ],
 "metadata": {
  "kernelspec": {
   "display_name": "Python 3",
   "language": "python",
   "name": "python3"
  },
  "language_info": {
   "codemirror_mode": {
    "name": "ipython",
    "version": 3
   },
   "file_extension": ".py",
   "mimetype": "text/x-python",
   "name": "python",
   "nbconvert_exporter": "python",
   "pygments_lexer": "ipython3",
   "version": "3.7.1"
  },
  "toc": {
   "base_numbering": 1,
   "nav_menu": {},
   "number_sections": true,
   "sideBar": true,
   "skip_h1_title": false,
   "title_cell": "Table of Contents",
   "title_sidebar": "Contents",
   "toc_cell": false,
   "toc_position": {},
   "toc_section_display": true,
   "toc_window_display": true
  }
 },
 "nbformat": 4,
 "nbformat_minor": 2
}
