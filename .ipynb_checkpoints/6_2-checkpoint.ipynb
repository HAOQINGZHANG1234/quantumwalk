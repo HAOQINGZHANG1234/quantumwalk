{
 "cells": [
  {
   "cell_type": "markdown",
   "metadata": {},
   "source": [
    "# 目的是研究边缘态在adiabatic 下的演化 以及在存在dissipation下的 情况"
   ]
  },
  {
   "cell_type": "code",
   "execution_count": 1,
   "metadata": {},
   "outputs": [
    {
     "data": {
      "text/plain": [
       "-0.059135383994142796"
      ]
     },
     "execution_count": 1,
     "metadata": {},
     "output_type": "execute_result"
    }
   ],
   "source": [
    "import numpy as np\n",
    "import random\n",
    "random.uniform(-np.pi/20, np.pi/20)"
   ]
  },
  {
   "cell_type": "code",
   "execution_count": 2,
   "metadata": {},
   "outputs": [],
   "source": [
    "import numpy as np \n",
    "import matplotlib.pyplot as plt\n",
    " \n",
    "def carry(state, theta):\n",
    "\t'''\n",
    "\tcarry U operatior on state\n",
    "\tsuppose U=exp(-i*theta/2*sigmay)\n",
    "\t'''\n",
    "\tU = np.array([[np.cos(theta/2), -np.sin(theta/2)],[np.sin(theta/2), np.cos(theta/2)]])\n",
    "\tfinal_state = np.dot(U, state)\n",
    "\n",
    "\treturn final_state\n",
    "\n",
    "def blue_carry(state, theta):\n",
    "\t'''\n",
    "\tblue carry U on state\n",
    "\tsuppose U=exp(-i*theta/2*sigmay)\n",
    "\tand |0>-->|1>,phonon number plus 1\n",
    "\t|1>-->|0>, phonon number minus 1\n",
    "\t'''\n",
    "\t# U operator on up and down level of state\n",
    "\tstate_up = np.vstack((state[0], np.zeros(len(state[0]))))\n",
    "\tstate_down = np.vstack((np.zeros(len(state[0])), state[1]))\n",
    "\tU = np.array([[np.cos(theta/2), -np.sin(theta/2)], [np.sin(theta/2), np.cos(theta/2)]])\n",
    "\tcarry_state_up = np.dot(U, state_up)\n",
    "\tcarry_state_down = np.dot(U, state_down)\n",
    "\t# after U operation, down level minus 1\n",
    "\tup_state = carry_state_up[0]\n",
    "\tdown_state_minus = carry_state_up[1]\n",
    "\tdown_state_minus_0 = state_up[0][0]  # blue carry can not drive the phonon=0 && up level\n",
    "\tdown_state_minus = np.delete(down_state_minus, 0)\n",
    "\tdown_state_minus = np.insert(down_state_minus, len(down_state_minus)-1, 0)\n",
    "\t# after U operation, up level plus 1\n",
    "\tup_state_plus = carry_state_down[0]\n",
    "\tdown_state = carry_state_down[1]\n",
    "\tup_state_plus = np.insert(up_state_plus, 0, down_state_minus_0)\n",
    "\tup_state_plus = np.delete(up_state_plus, len(up_state_plus)-1)\n",
    "\t# probability add up and down level\n",
    "\tup = up_state + up_state_plus\n",
    "\tdown = down_state_minus + down_state\n",
    "\tfinal_state = np.vstack((up, down))\n",
    "\n",
    "\treturn final_state\n",
    "\n",
    "def red_carry(state, theta):\n",
    "\t'''\n",
    "\tred carry U on state\n",
    "\tsuppose U=exp(-i*theta/2*sigmay)\n",
    "\tand |0>-->|1>,phonon number minus 1\n",
    "\t|1>-->|0>, phonon number plus 1\n",
    "\t'''\n",
    "\t# U operator on up and down level of state\n",
    "\tstate_up = np.vstack((state[0], np.zeros(len(state[0]))))\n",
    "\tstate_down = np.vstack((np.zeros(len(state[0])), state[1]))\n",
    "\tU = np.array([[np.cos(theta/2), -np.sin(theta/2)],[np.sin(theta/2), np.cos(theta/2)]])\n",
    "\tcarry_state_up = np.dot(U, state_up)\n",
    "\tcarry_state_down = np.dot(U, state_down)\n",
    "\t# after U operation, up level minus 1\n",
    "\tup_state_minus = carry_state_down[0]\n",
    "\tdown_state = carry_state_down[1]\n",
    "\tup_state_minus_0 = state_down[1][0] # red carry can not drive the phonon=0 && down level\n",
    "\tup_state_minus = np.delete(up_state_minus,0)\n",
    "\tup_state_minus = np.insert(up_state_minus,len(up_state_minus)-1,0)\n",
    "\t# after U operation, down level plus 1\n",
    "\tup_state = carry_state_up[0]\n",
    "\tdown_state_plus = carry_state_up[1]\n",
    "\tdown_state_plus = np.insert(down_state_plus,0,up_state_minus_0)\n",
    "\tdown_state_plus = np.delete(down_state_plus,len(down_state_plus)-1)\n",
    "\t# probability add up and down level\n",
    "\tup = up_state + up_state_minus\n",
    "\tdown = down_state_plus + down_state\n",
    "\tfinal_state = np.vstack((up, down))\n",
    "\n",
    "\treturn final_state\n",
    "\n",
    "def Operator(up_state, down_state, func, theta):\n",
    "\t'''\n",
    "\toperator include carry, blue and red\n",
    "\t'''\n",
    "\tstate = np.vstack((up_state, down_state))\n",
    "\tstate = func(state, theta)\n",
    "\treturn state[0], state[1]\n",
    "\n",
    "\n",
    "def one_step(state, theta_1, theta_2):\n",
    "\t'''\n",
    "\tone step of complete quantum walk\n",
    "\tmay with the help of auxiliary level\n",
    "\tinput state of three level\n",
    "\toutput state of three level\n",
    "\tT1:up-->right\n",
    "\tt2:down-->left \n",
    "\tr2T1R1T2r2  r2=sqrt(R2)\n",
    "\t'''\n",
    "\tup_state = state[0]\n",
    "\tdown_state = state[1]\n",
    "\taux_state = state[2]\n",
    "\tup_state, down_state = Operator(up_state, down_state, carry, theta_2/2)\n",
    "\taux_state, down_state = Operator(aux_state, down_state, red_carry, np.pi)\n",
    "\tup_state, down_state = Operator(up_state, down_state, carry, np.pi)\n",
    "\taux_state, down_state = Operator(aux_state, down_state, carry, theta_1)\n",
    "\tup_state, down_state = Operator(up_state, down_state, blue_carry, np.pi)\n",
    "\taux_state, down_state = Operator(aux_state, down_state, carry, np.pi)\n",
    "\tup_state, down_state = Operator(up_state, down_state, carry, theta_2/2)\n",
    "\n",
    "\tstate = np.vstack((up_state, down_state, aux_state))\n",
    "\treturn state\n",
    "\n",
    "def one_step_1(state, theta_1, theta_2):\n",
    "\t'''\n",
    "\tone step of complete quantum walk\n",
    "\tmay with the help of auxiliary level\n",
    "\tinput state of three level\n",
    "\toutput state of three level\n",
    "\tT1:up-->right\n",
    "\tt2:down-->left \n",
    "\tr2T1R1T2r2  r2=sqrt(R2)\n",
    "\t'''\n",
    "\tup_state = state[0]\n",
    "\tdown_state = state[1]\n",
    "\taux_state = state[2]\n",
    "\tup_state, down_state = Operator(up_state, down_state, carry, theta_2)\n",
    "\taux_state, down_state = Operator(aux_state, down_state, red_carry, np.pi)\n",
    "\tup_state, down_state = Operator(up_state, down_state, carry, np.pi)\n",
    "\taux_state, down_state = Operator(aux_state, down_state, carry, theta_1)\n",
    "\tup_state, down_state = Operator(up_state, down_state, blue_carry, np.pi)\n",
    "\taux_state, down_state = Operator(aux_state, down_state, carry, np.pi)\n",
    "\tstate = np.vstack((up_state, down_state, aux_state))\n",
    "\treturn state\n",
    "\n",
    "def N_step(state, theta_1, theta_2, N):\n",
    "\t'''\n",
    "\tN step of complete quantum walk\n",
    "\t'''\n",
    "\tfor i in range(N):      \n",
    "\t\tstate = one_step(state, theta_1, theta_2)\n",
    "\treturn state\n",
    "\n",
    "def N_step_dis(state, theta_1, theta_2, dis, N):\n",
    "\t'''\n",
    "\tN step of complete quantum walk\n",
    "\t'''\n",
    "\tfor i in range(N):\n",
    "\t\tt1 = theta_1 + random.uniform(-dis, dis)\n",
    "\t\tt2 = theta_2 + random.uniform(-dis, dis)        \n",
    "\t\tstate = one_step(state, t1, theta_2)\n",
    "\treturn state\n",
    "\n",
    "def N_step_dis_1(state, theta_1, theta_2, dis, N):\n",
    "\t'''\n",
    "\tN step of complete quantum walk\n",
    "\t'''\n",
    "\tfor i in range(N):\n",
    "\t\tt1 = theta_1 + random.uniform(-dis, dis)\n",
    "\t\tt2 = theta_2 + random.uniform(-dis, dis)        \n",
    "\t\tstate = one_step(state, t1, t2)\n",
    "\treturn state"
   ]
  },
  {
   "cell_type": "code",
   "execution_count": 3,
   "metadata": {},
   "outputs": [],
   "source": [
    "M = 100\n",
    "\n",
    "up_state = [0]*M\n",
    "down_state = [0]*M\n",
    "aux_state = [0]*M\n",
    "down_state[0] = 1\n",
    "\n",
    "np.array(up_state)\n",
    "np.array(down_state)\n",
    "np.array(aux_state)\n",
    "init_state = np.vstack((up_state, down_state, aux_state))\n",
    "\n",
    "theta_1 = np.linspace(-2*np.pi, 2*np.pi, 201)\n",
    "theta_2 = np.pi/2\n",
    "dis = np.pi/20\n",
    "p = np.zeros(201)\n",
    "\n",
    "for i,theta in enumerate(theta_1):\n",
    "    state = N_step_dis_1(init_state, theta, theta_2, dis,  N=30)\n",
    "    P = abs(state[0])**2 + abs(state[1])**2 + abs(state[2])**2\n",
    "    p[i] = P[0] + P[1] \n"
   ]
  },
  {
   "cell_type": "code",
   "execution_count": 4,
   "metadata": {},
   "outputs": [
    {
     "data": {
      "text/plain": [
       "<matplotlib.legend.Legend at 0x259651e95c0>"
      ]
     },
     "execution_count": 4,
     "metadata": {},
     "output_type": "execute_result"
    },
    {
     "data": {
      "image/png": "[encoded data removed]",
      "text/plain": [
       "<Figure size 432x288 with 1 Axes>"
      ]
     },
     "metadata": {
      "needs_background": "light"
     },
     "output_type": "display_data"
    }
   ],
   "source": [
    "plt.plot(theta_1, p, label='$ \\\\theta_2 = \\pi/2$')\n",
    "plt.ylim(top = 1,bottom = 0)\n",
    "my_x_ticks = np.arange(-2*np.pi,2*np.pi,np.pi/2) \n",
    "plt.xticks(my_x_ticks,('-2pi','-3pi/2','-pi','-pi/2','0','pi/2','pi','3pi/2','2pi'))\n",
    "plt.vlines(-3*np.pi/2, 0, 1, linestyles = \"dashed\")\n",
    "plt.vlines(-np.pi, 0, 1, linestyles = \"dashed\")\n",
    "plt.vlines(-np.pi/2, 0, 1, linestyles = \"dashed\")\n",
    "plt.vlines(np.pi/2, 0, 1, linestyles = \"dashed\")\n",
    "plt.vlines(np.pi, 0, 1, linestyles = \"dashed\")\n",
    "plt.vlines(3*np.pi/2, 0, 1, linestyles = \"dashed\")\n",
    "plt.legend(loc='best') "
   ]
  },
  {
   "cell_type": "markdown",
   "metadata": {},
   "source": [
    "# 绝热演化\n",
    "$\\theta(t)=\\frac{\\theta_{\\max }+\\theta_{\\min }}{2}+\\frac{\\theta_{\\max }-\\theta_{\\min }}{2} \\tanh \\left(\\frac{t}{\\xi}\\right)$\n",
    "和之前在不同区间的转角不同类似，我们在时域上采用类似的演化，显然$\\chi$改变决定不同的速度"
   ]
  },
  {
   "cell_type": "code",
   "execution_count": 580,
   "metadata": {},
   "outputs": [
    {
     "data": {
      "text/plain": [
       "[<matplotlib.lines.Line2D at 0x2597f2bc320>]"
      ]
     },
     "execution_count": 580,
     "metadata": {},
     "output_type": "execute_result"
    },
    {
     "data": {
      "image/png": "[encoded data removed]",
      "text/plain": [
       "<Figure size 432x288 with 1 Axes>"
      ]
     },
     "metadata": {
      "needs_background": "light"
     },
     "output_type": "display_data"
    }
   ],
   "source": [
    "# 波形 ,theta_1 为后半段转角，theta_2 为前半段转角，xi越小演化越慢\n",
    "n = 30\n",
    "def f(t, theta_1, theta_2, xi, n):\n",
    "    return 1/2*(theta_1+theta_2 + (theta_1-theta_2)*np.tanh((t-n)/xi))\n",
    "T = np.linspace(0,2*n,2*n+1)\n",
    "th = np.zeros(2*n+1)\n",
    "for i,t in enumerate(T):\n",
    "    th[i] = f(t, 0, 3*np.pi/2, 10 ,n)\n",
    "plt.scatter(T,th)\n",
    "plt.plot(T,th)"
   ]
  },
  {
   "cell_type": "code",
   "execution_count": 365,
   "metadata": {},
   "outputs": [],
   "source": [
    "# def N_step_ada(state, theta_1, theta_2, theta_3, xi, n1, n2):\n",
    "# \t'''\n",
    "# \tN step of complete quantum walk\n",
    "# \t'''\n",
    "# \tfor i in range(n1):\n",
    "# \t\tt = 1/2 * (theta_3+theta_1 + (theta_3-theta_1) * np.tanh((i-n1)/xi))       \n",
    "# \t\tstate = one_step(state, t, theta_2)\n",
    "# \tfor i in range(n2):\n",
    "# \t\tt = 1/2 * (theta_3+theta_1 + (theta_3-theta_1) * np.tanh((i+1)/xi))       \n",
    "# \t\tstate = one_step(state, t, theta_2)    \n",
    "# \treturn state\n",
    "\n",
    "# def N_step_Ada(state, theta_1, theta_2, theta_3, xi, n1, n2):\n",
    "# \t'''\n",
    "# \tN step of complete quantum walk\n",
    "# \t'''\n",
    "# \tfor i in range(n1):\n",
    "# \t\tt = 1/2 * (theta_3+theta_2 + (theta_3-theta_2) * np.tanh((i-n1)/xi))       \n",
    "# \t\tstate = one_step(state, theta_1, t)\n",
    "# \tfor i in range(n2):\n",
    "# \t\tt = 1/2 * (theta_3+theta_2 + (theta_3-theta_2) * np.tanh((i+1)/xi))       \n",
    "# \t\tstate = one_step(state, theta_1, t)    \n",
    "# \treturn state\n",
    "def N_step_ada(state, theta_1, theta_2, theta_3, xi, dis, n1, n2, n3):\n",
    "\t'''\n",
    "\tN step of complete quantum walk\n",
    "\t'''\n",
    "\tfor i in range(n1):    \n",
    "\t\tstate = one_step(state, theta_1, theta_2)     \n",
    "\tfor i in range(n2):\n",
    "\t\tt = 1/2 * (theta_3+theta_1 + (theta_3-theta_1) * np.tanh((i-n2)/xi))       \n",
    "\t\tstate = one_step(state, t, theta_2)\n",
    "\tfor i in range(n3):\n",
    "\t\tt = 1/2 * (theta_3+theta_1 + (theta_3-theta_1) * np.tanh((i+1)/xi))       \n",
    "\t\tstate = one_step(state, t+random.uniform(-dis, dis), theta_2)    \n",
    "\treturn state\n",
    "\n",
    "def N_step_Ada(state, theta_1, theta_2, theta_3, xi, n1, n2, n3):\n",
    "\t'''\n",
    "\tN step of complete quantum walk\n",
    "\t'''\n",
    "\tfor i in range(n1):    \n",
    "\t\tstate = one_step(state, theta_1, theta_2)     \n",
    "\tfor i in range(n2):\n",
    "\t\tt = 1/2 * (theta_3+theta_2 + (theta_3-theta_2) * np.tanh((i-n2)/xi))       \n",
    "\t\tstate = one_step(state, theta_1, t)\n",
    "\tfor i in range(n3):\n",
    "\t\tt = 1/2 * (theta_3+theta_2 + (theta_3-theta_2) * np.tanh((i+1)/xi))       \n",
    "\t\tstate = one_step(state, theta_1, t)    \n",
    "\treturn state"
   ]
  },
  {
   "cell_type": "code",
   "execution_count": 386,
   "metadata": {},
   "outputs": [],
   "source": [
    "M = 200\n",
    "\n",
    "up_state = [0]*M\n",
    "down_state = [0]*M\n",
    "aux_state = [0]*M\n",
    "down_state[0] = 1\n",
    "\n",
    "np.array(up_state)\n",
    "np.array(down_state)\n",
    "np.array(aux_state)\n",
    "init_state = np.vstack((up_state, down_state, aux_state))\n",
    "\n",
    "theta_3 = np.linspace(-3*np.pi/2, 3*np.pi/2, 201)\n",
    "theta_1 = -np.pi/2\n",
    "theta_2 = np.pi/4\n",
    "\n",
    "p_1 = np.zeros(201)\n",
    "p_2 = np.zeros(201)\n",
    "p_3 = np.zeros(201)\n",
    "p_4 = np.zeros(201)\n",
    "\n",
    "dis = np.pi/10\n",
    "\n",
    "for i,theta in enumerate(theta_3):\n",
    "    state = N_step_Ada(init_state, theta_1, theta_2, theta, 0.25,  n1=20, n2=20, n3=100)\n",
    "    P1 = abs(state[0])**2 + abs(state[1])**2 + abs(state[2])**2\n",
    "    p_1[i] = P1[0] + P1[1] \n",
    "    state = N_step_Ada(init_state, theta_1, theta_2, theta, 1,  n1=15, n2=25, n3=100)\n",
    "    P2 = abs(state[0])**2 + abs(state[1])**2 + abs(state[2])**2\n",
    "    p_2[i] = P2[0] + P2[1]\n",
    "    state = N_step_Ada(init_state, theta_1, theta_2, theta, 4,  n1=10, n2=30, n3=100)\n",
    "    P3 = abs(state[0])**2 + abs(state[1])**2 + abs(state[2])**2\n",
    "    p_3[i] = P3[0] + P3[1]\n",
    "    state = N_step_Ada(init_state, theta_1, theta_2, theta, 8,   n1=5, n2=35, n3=100)\n",
    "    P4 = abs(state[0])**2 + abs(state[1])**2 + abs(state[2])**2\n",
    "    p_4[i] = P4[0] + P4[1]\n"
   ]
  },
  {
   "cell_type": "code",
   "execution_count": 387,
   "metadata": {
    "scrolled": false
   },
   "outputs": [
    {
     "data": {
      "image/png": "[encoded data removed]",
      "text/plain": [
       "<Figure size 576x1152 with 1 Axes>"
      ]
     },
     "metadata": {
      "needs_background": "light"
     },
     "output_type": "display_data"
    },
    {
     "data": {
      "image/png": "[encoded data removed]",
      "text/plain": [
       "<Figure size 576x1152 with 3 Axes>"
      ]
     },
     "metadata": {
      "needs_background": "light"
     },
     "output_type": "display_data"
    }
   ],
   "source": [
    "plt.figure(figsize=(8,16))\n",
    "plt.subplot(4,1,1)\n",
    "plt.plot(theta_3, p_1, label='$ \\\\theta_2 = \\pi/2$')\n",
    "plt.ylim(top = 1,bottom = 0)\n",
    "my_x_ticks = np.arange(-3*np.pi/2,3*np.pi/2,np.pi/2) \n",
    "# my_x_ticks = np.arange(-5*np.pi/2,np.pi/2,np.pi/2) \n",
    "# plt.xticks(my_x_ticks,('-2pi','-3pi/2','-pi','-pi/2','0','pi/2','pi','3pi/2','2pi'))\n",
    "plt.xticks(my_x_ticks,('-3pi/2','-pi','-pi/2','0','pi/2','pi','3pi/2'))\n",
    "# plt.xticks(my_x_ticks,('-5pi/2','-2pi','-3pi/2','-pi','-pi/2','0','pi/2'))\n",
    "# plt.xticks(my_x_ticks,('-4pi','-7/2pi','-3pi','-5/2pi','-2pi','-3pi/2','-pi','-pi/2','0','pi/2','pi','3pi/2','2pi','5/2pi','3pi','7/2pi','4pi'))\n",
    "# plt.vlines(-7*np.pi/2, 0, 1, linestyles = \"dashed\")\n",
    "# plt.vlines(-5*np.pi/2, 0, 1, linestyles = \"dashed\")\n",
    "# plt.vlines(-2*np.pi, 0, 1, linestyles = \"dashed\")\n",
    "plt.vlines(-3*np.pi/2, 0, 1, linestyles = \"dashed\")\n",
    "plt.vlines(-np.pi, 0, 1, linestyles = \"dashed\")\n",
    "plt.vlines(-np.pi/2, 0, 1, linestyles = \"dashed\")\n",
    "plt.vlines(np.pi/2, 0, 1, linestyles = \"dashed\")\n",
    "plt.vlines(np.pi, 0, 1, linestyles = \"dashed\")\n",
    "plt.vlines(3*np.pi/2, 0, 1, linestyles = \"dashed\")\n",
    "# plt.vlines(2*np.pi, 0, 1, linestyles = \"dashed\")\n",
    "# plt.vlines(5*np.pi/2, 0, 1, linestyles = \"dashed\")\n",
    "# plt.vlines(7*np.pi/2, 0, 1, linestyles = \"dashed\")\n",
    "\n",
    "plt.figure(figsize=(8,16))\n",
    "plt.subplot(4,1,2)\n",
    "plt.plot(theta_3, p_2, label='$ \\\\theta_2 = \\pi/2$')\n",
    "plt.ylim(top = 1,bottom = 0)\n",
    "my_x_ticks = np.arange(-3*np.pi/2,3*np.pi/2,np.pi/2) \n",
    "# my_x_ticks = np.arange(-5*np.pi/2,np.pi/2,np.pi/2) \n",
    "# plt.xticks(my_x_ticks,('-2pi','-3pi/2','-pi','-pi/2','0','pi/2','pi','3pi/2','2pi'))\n",
    "plt.xticks(my_x_ticks,('-3pi/2','-pi','-pi/2','0','pi/2','pi','3pi/2'))\n",
    "# plt.xticks(my_x_ticks,('-5pi/2','-2pi','-3pi/2','-pi','-pi/2','0','pi/2'))\n",
    "# plt.xticks(my_x_ticks,('-4pi','-7/2pi','-3pi','-5/2pi','-2pi','-3pi/2','-pi','-pi/2','0','pi/2','pi','3pi/2','2pi','5/2pi','3pi','7/2pi','4pi'))\n",
    "# plt.vlines(-7*np.pi/2, 0, 1, linestyles = \"dashed\")\n",
    "# plt.vlines(-5*np.pi/2, 0, 1, linestyles = \"dashed\")\n",
    "# plt.vlines(-2*np.pi, 0, 1, linestyles = \"dashed\")\n",
    "plt.vlines(-3*np.pi/2, 0, 1, linestyles = \"dashed\")\n",
    "plt.vlines(-np.pi, 0, 1, linestyles = \"dashed\")\n",
    "plt.vlines(-np.pi/2, 0, 1, linestyles = \"dashed\")\n",
    "plt.vlines(np.pi/2, 0, 1, linestyles = \"dashed\")\n",
    "plt.vlines(np.pi, 0, 1, linestyles = \"dashed\")\n",
    "plt.vlines(3*np.pi/2, 0, 1, linestyles = \"dashed\")\n",
    "# plt.vlines(2*np.pi, 0, 1, linestyles = \"dashed\")\n",
    "# plt.vlines(5*np.pi/2, 0, 1, linestyles = \"dashed\")\n",
    "# plt.vlines(7*np.pi/2, 0, 1, linestyles = \"dashed\")\n",
    "\n",
    "plt.legend(loc='best') \n",
    "plt.subplot(4,1,3)\n",
    "plt.plot(theta_3, p_3, label='$ \\\\theta_2 = \\pi/2$')\n",
    "plt.ylim(top = 1,bottom = 0)\n",
    "my_x_ticks = np.arange(-3*np.pi/2,3*np.pi/2,np.pi/2) \n",
    "# my_x_ticks = np.arange(-5*np.pi/2,np.pi/2,np.pi/2) \n",
    "# plt.xticks(my_x_ticks,('-2pi','-3pi/2','-pi','-pi/2','0','pi/2','pi','3pi/2','2pi'))\n",
    "plt.xticks(my_x_ticks,('-3pi/2','-pi','-pi/2','0','pi/2','pi','3pi/2'))\n",
    "# plt.xticks(my_x_ticks,('-5pi/2','-2pi','-3pi/2','-pi','-pi/2','0','pi/2'))\n",
    "# plt.xticks(my_x_ticks,('-4pi','-7/2pi','-3pi','-5/2pi','-2pi','-3pi/2','-pi','-pi/2','0','pi/2','pi','3pi/2','2pi','5/2pi','3pi','7/2pi','4pi'))\n",
    "# plt.vlines(-7*np.pi/2, 0, 1, linestyles = \"dashed\")\n",
    "# plt.vlines(-5*np.pi/2, 0, 1, linestyles = \"dashed\")\n",
    "# plt.vlines(-2*np.pi, 0, 1, linestyles = \"dashed\")\n",
    "plt.vlines(-3*np.pi/2, 0, 1, linestyles = \"dashed\")\n",
    "plt.vlines(-np.pi, 0, 1, linestyles = \"dashed\")\n",
    "plt.vlines(-np.pi/2, 0, 1, linestyles = \"dashed\")\n",
    "plt.vlines(np.pi/2, 0, 1, linestyles = \"dashed\")\n",
    "plt.vlines(np.pi, 0, 1, linestyles = \"dashed\")\n",
    "plt.vlines(3*np.pi/2, 0, 1, linestyles = \"dashed\")\n",
    "# plt.vlines(2*np.pi, 0, 1, linestyles = \"dashed\")\n",
    "# plt.vlines(5*np.pi/2, 0, 1, linestyles = \"dashed\")\n",
    "# plt.vlines(7*np.pi/2, 0, 1, linestyles = \"dashed\")\n",
    "\n",
    "plt.legend(loc='best') \n",
    "plt.subplot(4,1,4)\n",
    "plt.plot(theta_3, p_4, label='$ \\\\theta_2 = \\pi/2$')\n",
    "plt.ylim(top = 1,bottom = 0)\n",
    "my_x_ticks = np.arange(-3*np.pi/2,3*np.pi/2,np.pi/2) \n",
    "# my_x_ticks = np.arange(-5*np.pi/2,np.pi/2,np.pi/2) \n",
    "# plt.xticks(my_x_ticks,('-2pi','-3pi/2','-pi','-pi/2','0','pi/2','pi','3pi/2','2pi'))\n",
    "plt.xticks(my_x_ticks,('-3pi/2','-pi','-pi/2','0','pi/2','pi','3pi/2'))\n",
    "# plt.xticks(my_x_ticks,('-5pi/2','-2pi','-3pi/2','-pi','-pi/2','0','pi/2'))\n",
    "# plt.xticks(my_x_ticks,('-4pi','-7/2pi','-3pi','-5/2pi','-2pi','-3pi/2','-pi','-pi/2','0','pi/2','pi','3pi/2','2pi','5/2pi','3pi','7/2pi','4pi'))\n",
    "# plt.vlines(-7*np.pi/2, 0, 1, linestyles = \"dashed\")\n",
    "# plt.vlines(-5*np.pi/2, 0, 1, linestyles = \"dashed\")\n",
    "# plt.vlines(-2*np.pi, 0, 1, linestyles = \"dashed\")\n",
    "plt.vlines(-3*np.pi/2, 0, 1, linestyles = \"dashed\")\n",
    "plt.vlines(-np.pi, 0, 1, linestyles = \"dashed\")\n",
    "plt.vlines(-np.pi/2, 0, 1, linestyles = \"dashed\")\n",
    "plt.vlines(np.pi/2, 0, 1, linestyles = \"dashed\")\n",
    "plt.vlines(np.pi, 0, 1, linestyles = \"dashed\")\n",
    "plt.vlines(3*np.pi/2, 0, 1, linestyles = \"dashed\")\n",
    "# plt.vlines(2*np.pi, 0, 1, linestyles = \"dashed\")\n",
    "# plt.vlines(5*np.pi/2, 0, 1, linestyles = \"dashed\")\n",
    "# plt.vlines(7*np.pi/2, 0, 1, linestyles = \"dashed\") linestyles = \"dashed\")\n",
    "\n",
    "plt.legend(loc='best') \n",
    "plt.savefig('2.jpg')"
   ]
  },
  {
   "cell_type": "code",
   "execution_count": 585,
   "metadata": {},
   "outputs": [
    {
     "data": {
      "text/plain": [
       "<matplotlib.collections.LineCollection at 0x2597f4da630>"
      ]
     },
     "execution_count": 585,
     "metadata": {},
     "output_type": "execute_result"
    },
    {
     "data": {
      "image/png": "[encoded data removed]",
      "text/plain": [
       "<Figure size 576x288 with 1 Axes>"
      ]
     },
     "metadata": {
      "needs_background": "light"
     },
     "output_type": "display_data"
    }
   ],
   "source": [
    "M = 200\n",
    "\n",
    "up_state = [0]*M\n",
    "down_state = [0]*M\n",
    "aux_state = [0]*M\n",
    "down_state[0] = 1\n",
    "\n",
    "np.array(up_state)\n",
    "np.array(down_state)\n",
    "np.array(aux_state)\n",
    "init_state = np.vstack((up_state, down_state, aux_state))\n",
    "\n",
    "theta_3 = -np.pi\n",
    "theta_1 = 0\n",
    "theta_2 = np.pi\n",
    "\n",
    "n1=20\n",
    "n2=20\n",
    "n3=50\n",
    "xi=4\n",
    "dis=0.1\n",
    "\n",
    "p_1 = np.zeros(M+1)\n",
    "p_2 = np.zeros(M+1)\n",
    "p_3 = np.zeros(M+1)\n",
    "p_4 = np.zeros(M+1)\n",
    "\n",
    " \n",
    "p_1[0]=1\n",
    "\n",
    "# for i in range(n1): \n",
    "#     if (i == 0):\n",
    "#         state = one_step(init_state, theta_1, theta_2)\n",
    "#     else:\n",
    "#         state = one_step(state, theta_1, theta_2) \n",
    "#     P1 = abs(state[0])**2 + abs(state[1])**2 + abs(state[2])**2\n",
    "#     p_1[i+1] = P1[0] + P1[1] \n",
    "\n",
    "# for i in range(n2):\n",
    "#     t = 1/2 * (theta_3+theta_1 + (theta_3-theta_1) * np.tanh((i-n2)/xi))       \n",
    "#     state = one_step(state, t+random.uniform(-dis,dis), theta_2)\n",
    "#     P1 = abs(state[0])**2 + abs(state[1])**2 + abs(state[2])**2\n",
    "#     p_1[i+n1+1] = P1[0] + P1[1] \n",
    "    \n",
    "# for i in range(n3):\n",
    "#     t = 1/2 * (theta_3+theta_1 + (theta_3-theta_1) * np.tanh((i+1)/xi))     \n",
    "#     state = one_step(state, t+random.uniform(-dis,dis), theta_2)   \n",
    "#     P1 = abs(state[0])**2 + abs(state[1])**2 + abs(state[2])**2\n",
    "#     p_1[i+n1+n2+1] = P1[0] + P1[1]\n",
    "\n",
    "for i in range(n1): \n",
    "    if (i == 0):\n",
    "        state = one_step(init_state, theta_1, theta_2)\n",
    "    else:\n",
    "        state = one_step(state, theta_1, theta_2) \n",
    "    P1 = abs(state[0])**2 + abs(state[1])**2 + abs(state[2])**2\n",
    "    p_1[i+1] = P1[0] + P1[1] \n",
    "\n",
    "for i in range(n2):\n",
    "    t = 1/2 * (theta_3+theta_2 + (theta_3-theta_2) * np.tanh((i-n2)/xi))       \n",
    "    state = one_step(state, theta_1, t)\n",
    "    P1 = abs(state[0])**2 + abs(state[1])**2 + abs(state[2])**2\n",
    "    p_1[i+n1+1] = P1[0] + P1[1] \n",
    "    \n",
    "for i in range(n3):\n",
    "    t = 1/2 * (theta_3+theta_2 + (theta_3-theta_1) * np.tanh((i+1)/xi))     \n",
    "    state = one_step(state, theta_1, t)   \n",
    "    P1 = abs(state[0])**2 + abs(state[1])**2 + abs(state[2])**2\n",
    "    p_1[i+n1+n2+1] = P1[0] + P1[1]    \n",
    "    \n",
    "plt.figure(figsize=(8,4))\n",
    "T = range(n1+n2+n3+1)\n",
    "plt.plot(T, p_1[0:n1+n2+n3+1] )\n",
    "plt.scatter(T, p_1[0:n1+n2+n3+1], s=5, c='r')\n",
    "plt.xlim((0,n1+n2+n3))\n",
    "plt.ylim(top = 1,bottom = 0)\n",
    "# my_x_ticks = np.arange(-2*np.pi,2*np.pi,np.pi/2) \n",
    "# plt.xticks(my_x_ticks,('-2pi','-3pi/2','-pi','-pi/2','0','pi/2','pi','3pi/2','2pi'))\n",
    "# # plt.xticks(my_x_ticks,('-4pi','-7/2pi','-3pi','-5/2pi','-2pi','-3pi/2','-pi','-pi/2','0','pi/2','pi','3pi/2','2pi','5/2pi','3pi','7/2pi','4pi'))\n",
    "# # plt.vlines(-7*np.pi/2, 0, 1, linestyles = \"dashed\")\n",
    "# # plt.vlines(-5*np.pi/2, 0, 1, linestyles = \"dashed\")\n",
    "plt.vlines(n1, 0, 1, linestyles = \"dashed\")\n",
    "plt.vlines(n1+n2, 0, 1, linestyles = \"dashed\")\n",
    "\n",
    "# plt.vlines(-np.pi/2, 0, 1, linestyles = \"dashed\")\n",
    "# plt.vlines(np.pi/2, 0, 1, linestyles = \"dashed\")\n",
    "# plt.vlines(np.pi, 0, 1, linestyles = \"dashed\")\n",
    "# plt.vlines(3*np.pi/2, 0, 1, linestyles = \"dashed\")\n",
    "# plt.vlines(2*np.pi, 0, 1, linestyles = \"dashed\")\n",
    "# # plt.vlines(5*np.pi/2, 0, 1, linestyles = \"dashed\")\n",
    "# # plt.vlines(7*np.pi/2, 0, 1, linestyles = \"dashed\")\n"
   ]
  },
  {
   "cell_type": "code",
   "execution_count": 552,
   "metadata": {},
   "outputs": [
    {
     "ename": "ValueError",
     "evalue": "cannot find widget or abbreviation for argument: 'xi'",
     "output_type": "error",
     "traceback": [
      "\u001b[1;31m---------------------------------------------------------------------------\u001b[0m",
      "\u001b[1;31mValueError\u001b[0m                                Traceback (most recent call last)",
      "\u001b[1;32m<ipython-input-552-9c7d1668c2b8>\u001b[0m in \u001b[0;36m<module>\u001b[1;34m\u001b[0m\n\u001b[0;32m     49\u001b[0m                \u001b[0mstep\u001b[0m\u001b[1;33m=\u001b[0m\u001b[1;36m0.01\u001b[0m\u001b[1;33m)\u001b[0m\u001b[1;33m,\u001b[0m\u001b[0mchi\u001b[0m \u001b[1;33m=\u001b[0m \u001b[0mwidgets\u001b[0m\u001b[1;33m.\u001b[0m\u001b[0mFloatSlider\u001b[0m\u001b[1;33m(\u001b[0m\u001b[0mvalue\u001b[0m\u001b[1;33m=\u001b[0m\u001b[0mnp\u001b[0m\u001b[1;33m.\u001b[0m\u001b[0mpi\u001b[0m\u001b[1;33m/\u001b[0m\u001b[1;36m2\u001b[0m\u001b[1;33m,\u001b[0m\u001b[1;33m\u001b[0m\u001b[1;33m\u001b[0m\u001b[0m\n\u001b[0;32m     50\u001b[0m                \u001b[0mmin\u001b[0m\u001b[1;33m=\u001b[0m\u001b[1;36m0\u001b[0m\u001b[1;33m,\u001b[0m\u001b[1;33m\u001b[0m\u001b[1;33m\u001b[0m\u001b[0m\n\u001b[1;32m---> 51\u001b[1;33m                max=np.pi)) \n\u001b[0m\u001b[0;32m     52\u001b[0m \u001b[0mplt\u001b[0m\u001b[1;33m.\u001b[0m\u001b[0mshow\u001b[0m\u001b[1;33m(\u001b[0m\u001b[1;33m)\u001b[0m\u001b[1;33m\u001b[0m\u001b[1;33m\u001b[0m\u001b[0m\n",
      "\u001b[1;32mC:\\ProgramData\\Anaconda3\\lib\\site-packages\\ipywidgets\\widgets\\interaction.py\u001b[0m in \u001b[0;36m__call__\u001b[1;34m(self, _InteractFactory__interact_f, **kwargs)\u001b[0m\n\u001b[0;32m    521\u001b[0m         \u001b[1;31m#    def f(*args, **kwargs):\u001b[0m\u001b[1;33m\u001b[0m\u001b[1;33m\u001b[0m\u001b[1;33m\u001b[0m\u001b[0m\n\u001b[0;32m    522\u001b[0m         \u001b[1;31m#        ...\u001b[0m\u001b[1;33m\u001b[0m\u001b[1;33m\u001b[0m\u001b[1;33m\u001b[0m\u001b[0m\n\u001b[1;32m--> 523\u001b[1;33m         \u001b[0mw\u001b[0m \u001b[1;33m=\u001b[0m \u001b[0mself\u001b[0m\u001b[1;33m.\u001b[0m\u001b[0mwidget\u001b[0m\u001b[1;33m(\u001b[0m\u001b[0mf\u001b[0m\u001b[1;33m)\u001b[0m\u001b[1;33m\u001b[0m\u001b[1;33m\u001b[0m\u001b[0m\n\u001b[0m\u001b[0;32m    524\u001b[0m         \u001b[1;32mtry\u001b[0m\u001b[1;33m:\u001b[0m\u001b[1;33m\u001b[0m\u001b[1;33m\u001b[0m\u001b[0m\n\u001b[0;32m    525\u001b[0m             \u001b[0mf\u001b[0m\u001b[1;33m.\u001b[0m\u001b[0mwidget\u001b[0m \u001b[1;33m=\u001b[0m \u001b[0mw\u001b[0m\u001b[1;33m\u001b[0m\u001b[1;33m\u001b[0m\u001b[0m\n",
      "\u001b[1;32mC:\\ProgramData\\Anaconda3\\lib\\site-packages\\ipywidgets\\widgets\\interaction.py\u001b[0m in \u001b[0;36mwidget\u001b[1;34m(self, f)\u001b[0m\n\u001b[0;32m    437\u001b[0m             \u001b[0mThe\u001b[0m \u001b[0mfunction\u001b[0m \u001b[0mto\u001b[0m \u001b[0mwhich\u001b[0m \u001b[0mthe\u001b[0m \u001b[0minteractive\u001b[0m \u001b[0mwidgets\u001b[0m \u001b[0mare\u001b[0m \u001b[0mtied\u001b[0m\u001b[1;33m.\u001b[0m\u001b[1;33m\u001b[0m\u001b[1;33m\u001b[0m\u001b[0m\n\u001b[0;32m    438\u001b[0m         \"\"\"\n\u001b[1;32m--> 439\u001b[1;33m         \u001b[1;32mreturn\u001b[0m \u001b[0mself\u001b[0m\u001b[1;33m.\u001b[0m\u001b[0mcls\u001b[0m\u001b[1;33m(\u001b[0m\u001b[0mf\u001b[0m\u001b[1;33m,\u001b[0m \u001b[0mself\u001b[0m\u001b[1;33m.\u001b[0m\u001b[0mopts\u001b[0m\u001b[1;33m,\u001b[0m \u001b[1;33m**\u001b[0m\u001b[0mself\u001b[0m\u001b[1;33m.\u001b[0m\u001b[0mkwargs\u001b[0m\u001b[1;33m)\u001b[0m\u001b[1;33m\u001b[0m\u001b[1;33m\u001b[0m\u001b[0m\n\u001b[0m\u001b[0;32m    440\u001b[0m \u001b[1;33m\u001b[0m\u001b[0m\n\u001b[0;32m    441\u001b[0m     \u001b[1;32mdef\u001b[0m \u001b[0m__call__\u001b[0m\u001b[1;33m(\u001b[0m\u001b[0mself\u001b[0m\u001b[1;33m,\u001b[0m \u001b[0m__interact_f\u001b[0m\u001b[1;33m=\u001b[0m\u001b[1;32mNone\u001b[0m\u001b[1;33m,\u001b[0m \u001b[1;33m**\u001b[0m\u001b[0mkwargs\u001b[0m\u001b[1;33m)\u001b[0m\u001b[1;33m:\u001b[0m\u001b[1;33m\u001b[0m\u001b[1;33m\u001b[0m\u001b[0m\n",
      "\u001b[1;32mC:\\ProgramData\\Anaconda3\\lib\\site-packages\\ipywidgets\\widgets\\interaction.py\u001b[0m in \u001b[0;36m__init__\u001b[1;34m(self, _interactive__interact_f, _interactive__options, **kwargs)\u001b[0m\n\u001b[0;32m    181\u001b[0m         \u001b[0mself\u001b[0m\u001b[1;33m.\u001b[0m\u001b[0mauto_display\u001b[0m \u001b[1;33m=\u001b[0m \u001b[0m__options\u001b[0m\u001b[1;33m.\u001b[0m\u001b[0mget\u001b[0m\u001b[1;33m(\u001b[0m\u001b[1;34m\"auto_display\"\u001b[0m\u001b[1;33m,\u001b[0m \u001b[1;32mFalse\u001b[0m\u001b[1;33m)\u001b[0m\u001b[1;33m\u001b[0m\u001b[1;33m\u001b[0m\u001b[0m\n\u001b[0;32m    182\u001b[0m \u001b[1;33m\u001b[0m\u001b[0m\n\u001b[1;32m--> 183\u001b[1;33m         \u001b[0mnew_kwargs\u001b[0m \u001b[1;33m=\u001b[0m \u001b[0mself\u001b[0m\u001b[1;33m.\u001b[0m\u001b[0mfind_abbreviations\u001b[0m\u001b[1;33m(\u001b[0m\u001b[0mkwargs\u001b[0m\u001b[1;33m)\u001b[0m\u001b[1;33m\u001b[0m\u001b[1;33m\u001b[0m\u001b[0m\n\u001b[0m\u001b[0;32m    184\u001b[0m         \u001b[1;31m# Before we proceed, let's make sure that the user has passed a set of args+kwargs\u001b[0m\u001b[1;33m\u001b[0m\u001b[1;33m\u001b[0m\u001b[1;33m\u001b[0m\u001b[0m\n\u001b[0;32m    185\u001b[0m         \u001b[1;31m# that will lead to a valid call of the function. This protects against unspecified\u001b[0m\u001b[1;33m\u001b[0m\u001b[1;33m\u001b[0m\u001b[1;33m\u001b[0m\u001b[0m\n",
      "\u001b[1;32mC:\\ProgramData\\Anaconda3\\lib\\site-packages\\ipywidgets\\widgets\\interaction.py\u001b[0m in \u001b[0;36mfind_abbreviations\u001b[1;34m(self, kwargs)\u001b[0m\n\u001b[0;32m    281\u001b[0m             \u001b[1;32mfor\u001b[0m \u001b[0mname\u001b[0m\u001b[1;33m,\u001b[0m \u001b[0mvalue\u001b[0m\u001b[1;33m,\u001b[0m \u001b[0mdefault\u001b[0m \u001b[1;32min\u001b[0m \u001b[0m_yield_abbreviations_for_parameter\u001b[0m\u001b[1;33m(\u001b[0m\u001b[0mparam\u001b[0m\u001b[1;33m,\u001b[0m \u001b[0mkwargs\u001b[0m\u001b[1;33m)\u001b[0m\u001b[1;33m:\u001b[0m\u001b[1;33m\u001b[0m\u001b[1;33m\u001b[0m\u001b[0m\n\u001b[0;32m    282\u001b[0m                 \u001b[1;32mif\u001b[0m \u001b[0mvalue\u001b[0m \u001b[1;32mis\u001b[0m \u001b[0mempty\u001b[0m\u001b[1;33m:\u001b[0m\u001b[1;33m\u001b[0m\u001b[1;33m\u001b[0m\u001b[0m\n\u001b[1;32m--> 283\u001b[1;33m                     \u001b[1;32mraise\u001b[0m \u001b[0mValueError\u001b[0m\u001b[1;33m(\u001b[0m\u001b[1;34m'cannot find widget or abbreviation for argument: {!r}'\u001b[0m\u001b[1;33m.\u001b[0m\u001b[0mformat\u001b[0m\u001b[1;33m(\u001b[0m\u001b[0mname\u001b[0m\u001b[1;33m)\u001b[0m\u001b[1;33m)\u001b[0m\u001b[1;33m\u001b[0m\u001b[1;33m\u001b[0m\u001b[0m\n\u001b[0m\u001b[0;32m    284\u001b[0m                 \u001b[0mnew_kwargs\u001b[0m\u001b[1;33m.\u001b[0m\u001b[0mappend\u001b[0m\u001b[1;33m(\u001b[0m\u001b[1;33m(\u001b[0m\u001b[0mname\u001b[0m\u001b[1;33m,\u001b[0m \u001b[0mvalue\u001b[0m\u001b[1;33m,\u001b[0m \u001b[0mdefault\u001b[0m\u001b[1;33m)\u001b[0m\u001b[1;33m)\u001b[0m\u001b[1;33m\u001b[0m\u001b[1;33m\u001b[0m\u001b[0m\n\u001b[0;32m    285\u001b[0m         \u001b[1;32mreturn\u001b[0m \u001b[0mnew_kwargs\u001b[0m\u001b[1;33m\u001b[0m\u001b[1;33m\u001b[0m\u001b[0m\n",
      "\u001b[1;31mValueError\u001b[0m: cannot find widget or abbreviation for argument: 'xi'"
     ]
    },
    {
     "data": {
      "text/plain": [
       "<Figure size 432x288 with 0 Axes>"
      ]
     },
     "metadata": {},
     "output_type": "display_data"
    }
   ],
   "source": [
    "from ipywidgets import interact, interactive, fixed, interact_manual \n",
    "import ipywidgets as widgets \n",
    "\n",
    "import matplotlib.pyplot as plt \n",
    "%matplotlib inline \n",
    "\n",
    "import numpy as np \n",
    "\n",
    "M = 100\n",
    "\n",
    "up_state = [0]*M\n",
    "down_state = [0]*M\n",
    "aux_state = [0]*M\n",
    "down_state[0] = 1\n",
    "\n",
    "np.array(up_state)\n",
    "np.array(down_state)\n",
    "np.array(aux_state)\n",
    "init_state = np.vstack((up_state, down_state, aux_state))\n",
    "\n",
    "plt.figure()\n",
    "\n",
    "\n",
    "def plot_func(n1, n2, theta_1, theta_2, theta_3, xi):\n",
    "    n1 = int(n1)\n",
    "    n2 = int(n2)\n",
    "    state = N_step_ada(init_state, theta_1, theta_2, theta_3, xi, n1, n2)\n",
    "    P = abs(state[0])**2 + abs(state[1])**2 + abs(state[2])**2 \n",
    "    phonon = np.arange(0, len(P)) \n",
    "    plt.bar(phonon ,P) \n",
    "    plt.xlim(0,50)\n",
    "    plt.ylim(0,1)\n",
    "\n",
    "interact(plot_func, n1 = widgets.FloatSlider(value=0, \n",
    "               min=0, \n",
    "               max=89, \n",
    "               step=1),n2 = widgets.FloatSlider(value=0, \n",
    "               min=0, \n",
    "               max=89, \n",
    "               step=1),theta_1 = widgets.FloatSlider(value=np.pi/2, \n",
    "               min=-2*np.pi, \n",
    "               max=2*np.pi, \n",
    "               step=0.05*np.pi),theta_2 =widgets.FloatSlider(value=np.pi/2, \n",
    "               min=-2*np.pi, \n",
    "               max=2*np.pi, \n",
    "               step=0.01),theta_3 =widgets.FloatSlider(value=np.pi/2, \n",
    "               min=-2*np.pi, \n",
    "               max=2*np.pi, \n",
    "               step=0.01),chi = widgets.FloatSlider(value=np.pi/2, \n",
    "               min=0, \n",
    "               max=np.pi)) \n",
    "plt.show()"
   ]
  },
  {
   "cell_type": "markdown",
   "metadata": {},
   "source": [
    "# 另外一种演化的方式"
   ]
  },
  {
   "cell_type": "code",
   "execution_count": 173,
   "metadata": {},
   "outputs": [],
   "source": [
    "def N_step_ada(state, theta_1, theta_2, theta_3, xi, n1, n2):\n",
    "\t'''\n",
    "\tN step of complete quantum walk\n",
    "\t'''\n",
    "\tfor i in range(n1):    \n",
    "\t\tstate = one_step(state, theta_1, theta_2)   \n",
    "\tfor i in range(n2):\n",
    "\t\tt = theta_3 + (theta_1-theta_3) * np.exp(-(i+1)/xi)    \n",
    "\t\tstate = one_step(state, t, theta_2)\n",
    "\treturn state\n",
    "\n",
    "def N_step_Ada(state, theta_1, theta_2, theta_3, xi, n1, n2):\n",
    "\t'''\n",
    "\tN step of complete quantum walk\n",
    "\t'''\n",
    "\tfor i in range(n1):    \n",
    "\t\tstate = one_step(state, theta_1, theta_2)   \n",
    "\tfor i in range(n2):\n",
    "\t\tt = theta_3 + (theta_2-theta_3) * np.exp(-i/xi)     \n",
    "\t\tstate = one_step(state, theta_1, t)\n",
    "\treturn state"
   ]
  },
  {
   "cell_type": "code",
   "execution_count": 235,
   "metadata": {},
   "outputs": [
    {
     "data": {
      "text/plain": [
       "<matplotlib.collections.LineCollection at 0x2596ba274e0>"
      ]
     },
     "execution_count": 235,
     "metadata": {},
     "output_type": "execute_result"
    },
    {
     "data": {
      "image/png": "[encoded data removed]",
      "text/plain": [
       "<Figure size 432x288 with 1 Axes>"
      ]
     },
     "metadata": {
      "needs_background": "light"
     },
     "output_type": "display_data"
    }
   ],
   "source": [
    "n=25\n",
    "\n",
    "def f(t, theta_1, theta_2, xi):\n",
    "    return theta_2 + (theta_1-theta_2) * np.exp(-t/xi)\n",
    "T = np.linspace(0,n,n+1)\n",
    "th = np.zeros(n+1)\n",
    "for i,t in enumerate(T):\n",
    "    th[i] = f(t, 0, 3*np.pi/2, 5 )\n",
    "plt.scatter(T,th)\n",
    "plt.plot(T,th)\n",
    "plt.hlines(3*np.pi/2, 0, n, linestyles = \"dashed\")"
   ]
  },
  {
   "cell_type": "code",
   "execution_count": 257,
   "metadata": {},
   "outputs": [],
   "source": [
    "M = 200\n",
    "\n",
    "up_state = [0]*M\n",
    "down_state = [0]*M\n",
    "aux_state = [0]*M\n",
    "down_state[0] = 1\n",
    "\n",
    "np.array(up_state)\n",
    "np.array(down_state)\n",
    "np.array(aux_state)\n",
    "init_state = np.vstack((up_state, down_state, aux_state))\n",
    "\n",
    "theta_3 = np.linspace(-3*np.pi/2, 3*np.pi/2, 201)\n",
    "theta_2 = np.pi/2\n",
    "theta_1 = 0\n",
    "xi = 0.5\n",
    "p_1 = np.zeros(201)\n",
    "# p_2 = np.zeros(201)\n",
    "# p_3 = np.zeros(201)\n",
    "# p_4 = np.zeros(201)\n",
    "\n",
    "for i,theta in enumerate(theta_3):\n",
    "    state = N_step_ada(init_state, theta_1, theta_2, theta, xi, n1=20, n2=50)\n",
    "    P1 = abs(state[0])**2 + abs(state[1])**2 + abs(state[2])**2\n",
    "    p_1[i] = P1[0] + P1[1] \n",
    "#     state = N_step_Ada(init_state, theta_1, theta_2, theta, 1, n1=30, n2=60)\n",
    "#     P2 = abs(state[0])**2 + abs(state[1])**2 + abs(state[2])**2\n",
    "#     p_2[i] = P2[0] + P2[1]\n",
    "#     state = N_step_Ada(init_state, theta_1, theta_2, theta, 2, n1=30, n2=60)\n",
    "#     P3 = abs(state[0])**2 + abs(state[1])**2 + abs(state[2])**2\n",
    "#     p_3[i] = P3[0] + P3[1]\n",
    "#     state = N_step_Ada(init_state, theta_1, theta_2, theta, 4, n1=30, n2=60)\n",
    "#     P4 = abs(state[0])**2 + abs(state[1])**2 + abs(state[2])**2\n",
    "#     p_4[i] = P4[0] + P4[1]\n"
   ]
  },
  {
   "cell_type": "code",
   "execution_count": 258,
   "metadata": {},
   "outputs": [
    {
     "data": {
      "text/plain": [
       "<matplotlib.collections.LineCollection at 0x2596be8edd8>"
      ]
     },
     "execution_count": 258,
     "metadata": {},
     "output_type": "execute_result"
    },
    {
     "data": {
      "image/png": "[encoded data removed]",
      "text/plain": [
       "<Figure size 432x288 with 1 Axes>"
      ]
     },
     "metadata": {
      "needs_background": "light"
     },
     "output_type": "display_data"
    }
   ],
   "source": [
    "plt.plot(theta_3, p_1)\n",
    "plt.ylim(top = 1,bottom = 0)\n",
    "my_x_ticks = np.arange(-3*np.pi/2,3*np.pi/2,np.pi/2) \n",
    "# my_x_ticks = np.arange(-5*np.pi/2,np.pi/2,np.pi/2) \n",
    "# plt.xticks(my_x_ticks,('-2pi','-3pi/2','-pi','-pi/2','0','pi/2','pi','3pi/2','2pi'))\n",
    "plt.xticks(my_x_ticks,('-3pi/2','-pi','-pi/2','0','pi/2','pi','3pi/2'))\n",
    "# plt.xticks(my_x_ticks,('-5pi/2','-2pi','-3pi/2','-pi','-pi/2','0','pi/2'))\n",
    "# plt.xticks(my_x_ticks,('-4pi','-7/2pi','-3pi','-5/2pi','-2pi','-3pi/2','-pi','-pi/2','0','pi/2','pi','3pi/2','2pi','5/2pi','3pi','7/2pi','4pi'))\n",
    "# plt.vlines(-7*np.pi/2, 0, 1, linestyles = \"dashed\")\n",
    "# plt.vlines(-5*np.pi/2, 0, 1, linestyles = \"dashed\")\n",
    "# plt.vlines(-2*np.pi, 0, 1, linestyles = \"dashed\")\n",
    "plt.vlines(-3*np.pi/2, 0, 1, linestyles = \"dashed\")\n",
    "plt.vlines(-np.pi, 0, 1, linestyles = \"dashed\")\n",
    "plt.vlines(-np.pi/2, 0, 1, linestyles = \"dashed\")\n",
    "plt.vlines(np.pi/2, 0, 1, linestyles = \"dashed\")\n",
    "plt.vlines(np.pi, 0, 1, linestyles = \"dashed\")\n",
    "plt.vlines(3*np.pi/2, 0, 1, linestyles = \"dashed\")\n",
    "# plt.vlines(2*np.pi, 0, 1, linestyles = \"dashed\")\n",
    "# plt.vlines(5*np.pi/2, 0, 1, linestyles = \"dashed\")\n",
    "# plt.vlines(7*np.pi/2, 0, 1, linestyles = \"dashed\")\n"
   ]
  },
  {
   "cell_type": "code",
   "execution_count": 248,
   "metadata": {},
   "outputs": [],
   "source": [
    "M = 200\n",
    "\n",
    "up_state = [0]*M\n",
    "down_state = [0]*M\n",
    "aux_state = [0]*M\n",
    "down_state[0] = 1\n",
    "\n",
    "np.array(up_state)\n",
    "np.array(down_state)\n",
    "np.array(aux_state)\n",
    "init_state = np.vstack((up_state, down_state, aux_state))\n",
    "\n",
    "theta_3 = np.linspace(-3*np.pi/2, 3*np.pi/2, 201)\n",
    "theta_1 = -np.pi/2\n",
    "theta_2 = 3*np.pi/8\n",
    "xi = 6\n",
    "p_1 = np.zeros(201)\n",
    "# p_2 = np.zeros(201)\n",
    "# p_3 = np.zeros(201)\n",
    "# p_4 = np.zeros(201)\n",
    "\n",
    "for i,theta in enumerate(theta_3):\n",
    "    state = N_step_Ada(init_state, theta_1, theta_2, theta, xi, n1=15, n2=30)\n",
    "    P1 = abs(state[0])**2 + abs(state[1])**2 + abs(state[2])**2\n",
    "    p_1[i] = P1[0] + P1[1] \n",
    "#     state = N_step_Ada(init_state, theta_1, theta_2, theta, 1, n1=30, n2=60)\n",
    "#     P2 = abs(state[0])**2 + abs(state[1])**2 + abs(state[2])**2\n",
    "#     p_2[i] = P2[0] + P2[1]\n",
    "#     state = N_step_Ada(init_state, theta_1, theta_2, theta, 2, n1=30, n2=60)\n",
    "#     P3 = abs(state[0])**2 + abs(state[1])**2 + abs(state[2])**2\n",
    "#     p_3[i] = P3[0] + P3[1]\n",
    "#     state = N_step_Ada(init_state, theta_1, theta_2, theta, 4, n1=30, n2=60)\n",
    "#     P4 = abs(state[0])**2 + abs(state[1])**2 + abs(state[2])**2\n",
    "#     p_4[i] = P4[0] + P4[1]\n"
   ]
  },
  {
   "cell_type": "code",
   "execution_count": 249,
   "metadata": {
    "scrolled": true
   },
   "outputs": [
    {
     "data": {
      "text/plain": [
       "<matplotlib.collections.LineCollection at 0x2596bcbcfd0>"
      ]
     },
     "execution_count": 249,
     "metadata": {},
     "output_type": "execute_result"
    },
    {
     "data": {
      "image/png": "[encoded data removed]",
      "text/plain": [
       "<Figure size 432x288 with 1 Axes>"
      ]
     },
     "metadata": {
      "needs_background": "light"
     },
     "output_type": "display_data"
    }
   ],
   "source": [
    "plt.plot(theta_3, p_1)\n",
    "plt.ylim(top = 1,bottom = 0)\n",
    "my_x_ticks = np.arange(-3*np.pi/2,3*np.pi/2,np.pi/2) \n",
    "# my_x_ticks = np.arange(-5*np.pi/2,np.pi/2,np.pi/2) \n",
    "# plt.xticks(my_x_ticks,('-2pi','-3pi/2','-pi','-pi/2','0','pi/2','pi','3pi/2','2pi'))\n",
    "plt.xticks(my_x_ticks,('-3pi/2','-pi','-pi/2','0','pi/2','pi','3pi/2'))\n",
    "# plt.xticks(my_x_ticks,('-5pi/2','-2pi','-3pi/2','-pi','-pi/2','0','pi/2'))\n",
    "# plt.xticks(my_x_ticks,('-4pi','-7/2pi','-3pi','-5/2pi','-2pi','-3pi/2','-pi','-pi/2','0','pi/2','pi','3pi/2','2pi','5/2pi','3pi','7/2pi','4pi'))\n",
    "# plt.vlines(-7*np.pi/2, 0, 1, linestyles = \"dashed\")\n",
    "# plt.vlines(-5*np.pi/2, 0, 1, linestyles = \"dashed\")\n",
    "# plt.vlines(-2*np.pi, 0, 1, linestyles = \"dashed\")\n",
    "plt.vlines(-3*np.pi/2, 0, 1, linestyles = \"dashed\")\n",
    "plt.vlines(-np.pi, 0, 1, linestyles = \"dashed\")\n",
    "plt.vlines(-np.pi/2, 0, 1, linestyles = \"dashed\")\n",
    "plt.vlines(np.pi/2, 0, 1, linestyles = \"dashed\")\n",
    "plt.vlines(np.pi, 0, 1, linestyles = \"dashed\")\n",
    "plt.vlines(3*np.pi/2, 0, 1, linestyles = \"dashed\")\n",
    "# plt.vlines(2*np.pi, 0, 1, linestyles = \"dashed\")\n",
    "# plt.vlines(5*np.pi/2, 0, 1, linestyles = \"dashed\")\n",
    "# plt.vlines(7*np.pi/2, 0, 1, linestyles = \"dashed\")\n"
   ]
  },
  {
   "cell_type": "code",
   "execution_count": null,
   "metadata": {},
   "outputs": [],
   "source": []
  }
 ],
 "metadata": {
  "kernelspec": {
   "display_name": "Python 3",
   "language": "python",
   "name": "python3"
  },
  "language_info": {
   "codemirror_mode": {
    "name": "ipython",
    "version": 3
   },
   "file_extension": ".py",
   "mimetype": "text/x-python",
   "name": "python",
   "nbconvert_exporter": "python",
   "pygments_lexer": "ipython3",
   "version": "3.7.1"
  }
 },
 "nbformat": 4,
 "nbformat_minor": 2
}
