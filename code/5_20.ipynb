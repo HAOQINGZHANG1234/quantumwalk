{
 "cells": [
  {
   "cell_type": "markdown",
   "metadata": {},
   "source": [
    "# 破缺PHS，边缘态的建立与消失"
   ]
  },
  {
   "cell_type": "code",
   "execution_count": 3,
   "metadata": {},
   "outputs": [],
   "source": [
    "from mpl_toolkits.mplot3d import Axes3D  # noqa: F401 unused import\n",
    "\n",
    "import matplotlib.pyplot as plt\n",
    "import numpy as np"
   ]
  },
  {
   "cell_type": "code",
   "execution_count": 47,
   "metadata": {},
   "outputs": [],
   "source": [
    "import numpy as np \n",
    "import matplotlib.pyplot as plt\n",
    " \n",
    "def carry_k(state, theta, chi):\n",
    "\t'''\n",
    "\tcarry U operatior on state\n",
    "\tsuppose U=exp(-i*theta/2*sigmaz)\n",
    "\t'''\n",
    "\tU = np.array([[np.cos(theta/2)-1j*np.sin(theta/2)*np.sin(chi), -np.sin(theta/2)*np.cos(chi)],[np.sin(theta/2)*np.cos(chi), np.cos(theta/2)+1j*np.sin(theta/2)*np.sin(chi)]])\n",
    "\tfinal_state = np.dot(U, state)\n",
    "\n",
    "\treturn final_state\n",
    "\n",
    "def carry_y(state, theta):\n",
    "\t'''\n",
    "\tcarry U operatior on state\n",
    "\tsuppose U=exp(-i*theta/2*sigmay)\n",
    "\t'''\n",
    "\tU = np.array([[np.cos(theta/2), -np.sin(theta/2)],[np.sin(theta/2), np.cos(theta/2)]])\n",
    "\tfinal_state = np.dot(U, state)\n",
    "\n",
    "\treturn final_state\n",
    "\n",
    "def blue_carry(state, theta):\n",
    "\t'''\n",
    "\tblue carry U on state\n",
    "\tsuppose U=exp(-i*theta/2*sigmay)\n",
    "\tand |0>-->|1>,phonon number plus 1\n",
    "\t|1>-->|0>, phonon number minus 1\n",
    "\t'''\n",
    "\t# U operator on up and down level of state\n",
    "\tstate_up = np.vstack((state[0], np.zeros(len(state[0]))))\n",
    "\tstate_down = np.vstack((np.zeros(len(state[0])), state[1]))\n",
    "\tU = np.array([[np.cos(theta/2), -np.sin(theta/2)], [np.sin(theta/2), np.cos(theta/2)]])\n",
    "\tcarry_state_up = np.dot(U, state_up)\n",
    "\tcarry_state_down = np.dot(U, state_down)\n",
    "\t# after U operation, down level minus 1\n",
    "\tup_state = carry_state_up[0]\n",
    "\tdown_state_minus = carry_state_up[1]\n",
    "\tdown_state_minus_0 = state_up[0][0]  # blue carry can not drive the phonon=0 && up level\n",
    "\tdown_state_minus = np.delete(down_state_minus, 0)\n",
    "\tdown_state_minus = np.insert(down_state_minus, len(down_state_minus)-1, 0)\n",
    "\t# after U operation, up level plus 1\n",
    "\tup_state_plus = carry_state_down[0]\n",
    "\tdown_state = carry_state_down[1]\n",
    "\tup_state_plus = np.insert(up_state_plus, 0, down_state_minus_0)\n",
    "\tup_state_plus = np.delete(up_state_plus, len(up_state_plus)-1)\n",
    "\t# probability add up and down level\n",
    "\tup = up_state + up_state_plus\n",
    "\tdown = down_state_minus + down_state\n",
    "\tfinal_state = np.vstack((up, down))\n",
    "\n",
    "\treturn final_state\n",
    "\n",
    "def red_carry(state, theta):\n",
    "\t'''\n",
    "\tred carry U on state\n",
    "\tsuppose U=exp(-i*theta/2*sigmay)\n",
    "\tand |0>-->|1>,phonon number minus 1\n",
    "\t|1>-->|0>, phonon number plus 1\n",
    "\t'''\n",
    "\t# U operator on up and down level of state\n",
    "\tstate_up = np.vstack((state[0], np.zeros(len(state[0]))))\n",
    "\tstate_down = np.vstack((np.zeros(len(state[0])), state[1]))\n",
    "\tU = np.array([[np.cos(theta/2), -np.sin(theta/2)],[np.sin(theta/2), np.cos(theta/2)]])\n",
    "\tcarry_state_up = np.dot(U, state_up)\n",
    "\tcarry_state_down = np.dot(U, state_down)\n",
    "\t# after U operation, up level minus 1\n",
    "\tup_state_minus = carry_state_down[0]\n",
    "\tdown_state = carry_state_down[1]\n",
    "\tup_state_minus_0 = state_down[1][0] # red carry can not drive the phonon=0 && down level\n",
    "\tup_state_minus = np.delete(up_state_minus,0)\n",
    "\tup_state_minus = np.insert(up_state_minus,len(up_state_minus)-1,0)\n",
    "\t# after U operation, down level plus 1\n",
    "\tup_state = carry_state_up[0]\n",
    "\tdown_state_plus = carry_state_up[1]\n",
    "\tdown_state_plus = np.insert(down_state_plus,0,up_state_minus_0)\n",
    "\tdown_state_plus = np.delete(down_state_plus,len(down_state_plus)-1)\n",
    "\t# probability add up and down level\n",
    "\tup = up_state + up_state_minus\n",
    "\tdown = down_state_plus + down_state\n",
    "\tfinal_state = np.vstack((up, down))\n",
    "\n",
    "\treturn final_state\n",
    "\n",
    "def Operator(up_state, down_state, func, theta):\n",
    "\t'''\n",
    "\toperator include carry, blue and red\n",
    "\t'''\n",
    "\tstate = np.vstack((up_state, down_state))\n",
    "\tstate = func(state, theta)\n",
    "\n",
    "\treturn state[0], state[1]\n",
    "\n",
    "def Operator_k(up_state, down_state, theta, chi):\n",
    "\t'''\n",
    "\toperator include carry, blue and red\n",
    "\t'''\n",
    "\tstate = np.vstack((up_state, down_state))\n",
    "\tstate = carry_k(state, theta, chi)\n",
    "\n",
    "\treturn state[0], state[1]\n",
    "\n",
    "def one_step_2_y(state, theta_1, theta_2):\n",
    "\t'''\n",
    "\tone step of complete quantum walk\n",
    "\tmay with the help of auxiliary level\n",
    "\tinput state of three level\n",
    "\toutput state of three level\n",
    "\tT1:up-->right\n",
    "\tt2:down-->left \n",
    "\tT1R1T2R2\n",
    "\t'''\n",
    "\tup_state = state[0]\n",
    "\tdown_state = state[1]\n",
    "\taux_state = state[2]\n",
    "\tup_state, down_state = Operator(up_state, down_state, carry_y, theta_2)\n",
    "\taux_state, down_state = Operator(aux_state, down_state, red_carry, np.pi)\n",
    "\tup_state, down_state = Operator(up_state, down_state, carry_y, np.pi)\n",
    "\taux_state, down_state = Operator(aux_state, down_state, carry_y, theta_1)\n",
    "\tup_state, down_state = Operator(up_state, down_state, blue_carry, np.pi)\n",
    "\taux_state, down_state = Operator(aux_state, down_state, carry_y, np.pi)\n",
    "\n",
    "\tstate = np.vstack((up_state, down_state, aux_state))\n",
    "\treturn state\n",
    "\n",
    "def N_step_2_y(state, theta_1, theta_2, N):\n",
    "\t'''\n",
    "\tN step of complete quantum walk\n",
    "\t'''\n",
    "\tfor i in range(N):\n",
    "\t\tstate = one_step_2_y(state, theta_1, theta_2)\n",
    "\treturn state\n",
    "    \n",
    "def one_step_2_K(state, theta_1, theta_2, chi):\n",
    "\t'''\n",
    "\tone step of complete quantum walk\n",
    "\tmay with the help of auxiliary level\n",
    "\tinput state of three level\n",
    "\toutput state of three level\n",
    "\tT1:up-->right\n",
    "\tt2:down-->left \n",
    "\tT1R1T2R2\n",
    "\t'''\n",
    "\tup_state = state[0]\n",
    "\tdown_state = state[1]\n",
    "\taux_state = state[2]\n",
    "\tup_state, down_state = Operator_k(up_state, down_state, theta_2, chi)\n",
    "\taux_state, down_state = Operator(aux_state, down_state, red_carry, np.pi)\n",
    "\tup_state, down_state = Operator(up_state, down_state, carry_y, np.pi)\n",
    "\taux_state, down_state = Operator_k(aux_state, down_state, theta_1, chi)\n",
    "\tup_state, down_state = Operator(up_state, down_state, blue_carry, np.pi)\n",
    "\taux_state, down_state = Operator(aux_state, down_state, carry_y, np.pi)\n",
    "\n",
    "\tstate = np.vstack((up_state, down_state, aux_state))\n",
    "\treturn state\n",
    "\n",
    "def N_step_2_K(state, theta_1, theta_2, chi, N):\n",
    "\t'''\n",
    "\tN step of complete quantum walk\n",
    "\t'''\n",
    "\tfor i in range(N):\n",
    "\t\tstate = one_step_2_K(state, theta_1, theta_2, chi)\n",
    "\treturn state\n",
    "\n",
    "def one_step_2_k(state, theta_1, theta_2, chi):\n",
    "\t'''\n",
    "\tone step of complete quantum walk\n",
    "\tmay with the help of auxiliary level\n",
    "\tinput state of three level\n",
    "\toutput state of three level\n",
    "\tT1:up-->right\n",
    "\tt2:down-->left \n",
    "\tT1R1T2R2\n",
    "\t'''\n",
    "\tup_state = state[0]\n",
    "\tdown_state = state[1]\n",
    "\taux_state = state[2]\n",
    "\tup_state, down_state = Operator(up_state, down_state, theta_2)\n",
    "\taux_state, down_state = Operator(aux_state, down_state, red_carry, np.pi)\n",
    "\tup_state, down_state = Operator(up_state, down_state, carry_y, np.pi)\n",
    "\taux_state, down_state = Operator_k(aux_state, down_state, theta_1, chi)\n",
    "\tup_state, down_state = Operator(up_state, down_state, blue_carry, np.pi)\n",
    "\taux_state, down_state = Operator(aux_state, down_state, carry_y, np.pi)\n",
    "\n",
    "\tstate = np.vstack((up_state, down_state, aux_state))\n",
    "\treturn state\n",
    "\n",
    "def N_step_2_k(state, theta_1, theta_2, chi, N):\n",
    "\t'''\n",
    "\tN step of complete quantum walk\n",
    "\t'''\n",
    "\tfor i in range(N):\n",
    "\t\tstate = one_step_2_k(state, theta_1, theta_2, chi)\n",
    "\treturn state"
   ]
  },
  {
   "cell_type": "code",
   "execution_count": 23,
   "metadata": {},
   "outputs": [],
   "source": [
    "def N_step_found(state, theta_1, theta_2, chi, N_1, N_2):\n",
    "    for i in range(N_1):\n",
    "        state = one_step_2_y(state, theta_1, theta_2)\n",
    "    state_1 = state\n",
    "    for i in range(N_2):\n",
    "        state_1 = one_step_2_K(state_1, theta_1, theta_2, chi)\n",
    "    return state_1\n",
    "\n",
    "def N_step_destruc(state, theta_1, theta_2, chi, N_1, N_2):\n",
    "    for i in range(N_1):\n",
    "        state = one_step_2_K(state, theta_1, theta_2, chi)\n",
    "    state_1 = state\n",
    "    for i in range(N_2):\n",
    "        state_1 = one_step_2_y(state_1, theta_1, theta_2)\n",
    "    return state_1"
   ]
  },
  {
   "cell_type": "code",
   "execution_count": 48,
   "metadata": {},
   "outputs": [],
   "source": [
    "def N_step_F(state, theta_1, theta_2, chi, N_1, N_2):\n",
    "    for i in range(N_1):\n",
    "        state = one_step_2_y(state, theta_1, theta_2)\n",
    "    state_1 = state\n",
    "    for i in range(N_2):\n",
    "        state_1 = one_step_2_k(state_1, theta_1, theta_2, chi)\n",
    "    return state_1\n",
    "\n",
    "def N_step_D(state, theta_1, theta_2, chi, N_1, N_2):\n",
    "    for i in range(N_1):\n",
    "        state = one_step_2_k(state, theta_1, theta_2, chi)\n",
    "    state_1 = state\n",
    "    for i in range(N_2):\n",
    "        state_1 = one_step_2_y(state_1, theta_1, theta_2)\n",
    "    return state_1"
   ]
  },
  {
   "cell_type": "code",
   "execution_count": 81,
   "metadata": {},
   "outputs": [],
   "source": [
    "M = 150\n",
    "n = 1\n",
    "N = 100\n",
    "p1_y = np.zeros(101)\n",
    "p2_y = np.zeros(101)\n",
    "p3_y = np.zeros(101)\n",
    "up_state = [0]*M\n",
    "down_state = [0]*M\n",
    "aux_state = [0]*M\n",
    "chi = np.pi/2\n",
    "# up_state[1] = 1/np.sqrt(2)\n",
    "# down_state[0] = -1j/np.sqrt(2)\n",
    "down_state[0] = 1\n",
    "theta_2 = np.linspace(-2*np.pi,2*np.pi,101)\n",
    "theta_1 = np.pi/2\n",
    "np.array(up_state)\n",
    "np.array(down_state)\n",
    "np.array(aux_state)\n",
    "init_state = np.vstack((up_state, down_state, aux_state))\n",
    "for i,theta in enumerate(theta_2):\n",
    "    state1 = N_step_found(init_state, theta, theta_1, chi, N_1=10, N_2=20)\n",
    "    state2 = N_step_destruc(init_state, theta, theta_1, chi, N_1=10, N_2=20)\n",
    "    state3 = N_step_2_y(init_state, theta, theta_1, N=30)\n",
    "    P1 = abs(state1[0])**2 + abs(state1[1])**2 + abs(state1[2])**2\n",
    "    P2 = abs(state2[0])**2 + abs(state2[1])**2 + abs(state2[2])**2\n",
    "    P3 = abs(state3[0])**2 + abs(state3[1])**2 + abs(state3[2])**2\n",
    "    p1_y[i] = P1[0] + P1[1] \n",
    "    p2_y[i] = P2[0] + P2[1] \n",
    "    p3_y[i] = P3[0] + P3[1]"
   ]
  },
  {
   "cell_type": "code",
   "execution_count": 59,
   "metadata": {},
   "outputs": [
    {
     "data": {
      "text/plain": [
       "<matplotlib.legend.Legend at 0x1f95d9eb438>"
      ]
     },
     "execution_count": 59,
     "metadata": {},
     "output_type": "execute_result"
    },
    {
     "data": {
      "image/png": "[encoded data removed]",
      "text/plain": [
       "<Figure size 432x288 with 1 Axes>"
      ]
     },
     "metadata": {
      "needs_background": "light"
     },
     "output_type": "display_data"
    }
   ],
   "source": [
    "plt.plot(theta_2, p1_y, label='foundation of egde state')\n",
    "plt.ylim(top = 1,bottom = 0)\n",
    "my_x_ticks = np.arange(-2*np.pi,2*np.pi,np.pi/2) \n",
    "plt.xticks(my_x_ticks,('-2pi','-3pi/2','-pi','-pi/2','0','pi/2','pi','3pi/2','2pi'))\n",
    "plt.vlines(-3*np.pi/2, 0, 1, linestyles = \"dashed\")\n",
    "plt.vlines(-np.pi, 0, 1, linestyles = \"dashed\")\n",
    "plt.vlines(-np.pi/2, 0, 1, linestyles = \"dashed\")\n",
    "plt.vlines(np.pi/2, 0, 1, linestyles = \"dashed\")\n",
    "plt.vlines(np.pi, 0, 1, linestyles = \"dashed\")\n",
    "plt.vlines(3*np.pi/2, 0, 1, linestyles = \"dashed\")\n",
    "plt.legend(loc='best') "
   ]
  },
  {
   "cell_type": "code",
   "execution_count": 82,
   "metadata": {},
   "outputs": [
    {
     "data": {
      "text/plain": [
       "<matplotlib.legend.Legend at 0x1f95ded2c88>"
      ]
     },
     "execution_count": 82,
     "metadata": {},
     "output_type": "execute_result"
    },
    {
     "data": {
      "image/png": "[encoded data removed]",
      "text/plain": [
       "<Figure size 432x288 with 1 Axes>"
      ]
     },
     "metadata": {
      "needs_background": "light"
     },
     "output_type": "display_data"
    }
   ],
   "source": [
    "plt.plot(theta_2, p2_y, label='destruction of edge state')\n",
    "plt.ylim(top = 1,bottom = 0)\n",
    "my_x_ticks = np.arange(-2*np.pi,2*np.pi,np.pi/2) \n",
    "plt.xticks(my_x_ticks,('-2pi','-3pi/2','-pi','-pi/2','0','pi/2','pi','3pi/2','2pi'))\n",
    "plt.vlines(-3*np.pi/2, 0, 1, linestyles = \"dashed\")\n",
    "plt.vlines(-np.pi, 0, 1, linestyles = \"dashed\")\n",
    "plt.vlines(-np.pi/2, 0, 1, linestyles = \"dashed\")\n",
    "plt.vlines(np.pi/2, 0, 1, linestyles = \"dashed\")\n",
    "plt.vlines(np.pi, 0, 1, linestyles = \"dashed\")\n",
    "plt.vlines(3*np.pi/2, 0, 1, linestyles = \"dashed\")\n",
    "plt.legend(loc='best') "
   ]
  },
  {
   "cell_type": "code",
   "execution_count": 44,
   "metadata": {},
   "outputs": [
    {
     "data": {
      "text/plain": [
       "<matplotlib.legend.Legend at 0x1f95d673198>"
      ]
     },
     "execution_count": 44,
     "metadata": {},
     "output_type": "execute_result"
    },
    {
     "data": {
      "image/png": "[encoded data removed]",
      "text/plain": [
       "<Figure size 432x288 with 1 Axes>"
      ]
     },
     "metadata": {
      "needs_background": "light"
     },
     "output_type": "display_data"
    }
   ],
   "source": [
    "plt.plot(theta_2, p3_y, label='$ \\\\theta_2 = \\pi/2$')\n",
    "plt.ylim(top = 1,bottom = 0)\n",
    "my_x_ticks = np.arange(-2*np.pi,2*np.pi,np.pi/2) \n",
    "plt.xticks(my_x_ticks,('-2pi','-3pi/2','-pi','-pi/2','0','pi/2','pi','3pi/2','2pi'))\n",
    "plt.vlines(-3*np.pi/2, 0, 1, linestyles = \"dashed\")\n",
    "plt.vlines(-np.pi, 0, 1, linestyles = \"dashed\")\n",
    "plt.vlines(-np.pi/2, 0, 1, linestyles = \"dashed\")\n",
    "plt.vlines(np.pi/2, 0, 1, linestyles = \"dashed\")\n",
    "plt.vlines(np.pi, 0, 1, linestyles = \"dashed\")\n",
    "plt.vlines(3*np.pi/2, 0, 1, linestyles = \"dashed\")\n",
    "plt.legend(loc='best') "
   ]
  },
  {
   "cell_type": "code",
   "execution_count": null,
   "metadata": {},
   "outputs": [],
   "source": []
  }
 ],
 "metadata": {
  "kernelspec": {
   "display_name": "Python 3",
   "language": "python",
   "name": "python3"
  },
  "language_info": {
   "codemirror_mode": {
    "name": "ipython",
    "version": 3
   },
   "file_extension": ".py",
   "mimetype": "text/x-python",
   "name": "python",
   "nbconvert_exporter": "python",
   "pygments_lexer": "ipython3",
   "version": "3.6.8"
  },
  "toc": {
   "base_numbering": 1,
   "nav_menu": {},
   "number_sections": true,
   "sideBar": true,
   "skip_h1_title": false,
   "title_cell": "Table of Contents",
   "title_sidebar": "Contents",
   "toc_cell": false,
   "toc_position": {},
   "toc_section_display": true,
   "toc_window_display": false
  }
 },
 "nbformat": 4,
 "nbformat_minor": 2
}
